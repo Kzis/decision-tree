{
 "cells": [
  {
   "cell_type": "markdown",
   "metadata": {
    "colab_type": "text",
    "id": "view-in-github"
   },
   "source": [
    "<a href=\"https://colab.research.google.com/github/Kzis/decision-tree/blob/master/dicision_tree.ipynb\" target=\"_parent\"><img src=\"https://colab.research.google.com/assets/colab-badge.svg\" alt=\"Open In Colab\"/></a>"
   ]
  },
  {
   "cell_type": "code",
   "execution_count": 1,
   "metadata": {
    "colab": {},
    "colab_type": "code",
    "id": "rcgnEd8ezBDB"
   },
   "outputs": [],
   "source": [
    "import numpy as np\n",
    "import pandas as pd\n",
    "from sklearn.tree import DecisionTreeClassifier, export_graphviz\n",
    "from sklearn import tree\n",
    "from sklearn.datasets import load_wine\n",
    "from sklearn.model_selection import train_test_split\n",
    "from sklearn import metrics\n",
    "from sklearn.metrics import confusion_matrix\n",
    "from IPython.display import SVG\n",
    "from graphviz import Source\n",
    "from IPython.display import display"
   ]
  },
  {
   "cell_type": "code",
   "execution_count": 2,
   "metadata": {
    "colab": {
     "base_uri": "https://localhost:8080/",
     "height": 226
    },
    "colab_type": "code",
    "id": "XDyepvVb6vby",
    "outputId": "8046983d-e109-4a7c-be4d-1420e948e849"
   },
   "outputs": [
    {
     "data": {
      "text/html": [
       "<div>\n",
       "<style scoped>\n",
       "    .dataframe tbody tr th:only-of-type {\n",
       "        vertical-align: middle;\n",
       "    }\n",
       "\n",
       "    .dataframe tbody tr th {\n",
       "        vertical-align: top;\n",
       "    }\n",
       "\n",
       "    .dataframe thead th {\n",
       "        text-align: right;\n",
       "    }\n",
       "</style>\n",
       "<table border=\"1\" class=\"dataframe\">\n",
       "  <thead>\n",
       "    <tr style=\"text-align: right;\">\n",
       "      <th></th>\n",
       "      <th>alcohol</th>\n",
       "      <th>malic_acid</th>\n",
       "      <th>ash</th>\n",
       "      <th>alcalinity_of_ash</th>\n",
       "      <th>magnesium</th>\n",
       "      <th>total_phenols</th>\n",
       "      <th>flavanoids</th>\n",
       "      <th>nonflavanoid_phenols</th>\n",
       "      <th>proanthocyanins</th>\n",
       "      <th>color_intensity</th>\n",
       "      <th>hue</th>\n",
       "      <th>od280/od315_of_diluted_wines</th>\n",
       "      <th>proline</th>\n",
       "    </tr>\n",
       "  </thead>\n",
       "  <tbody>\n",
       "    <tr>\n",
       "      <th>0</th>\n",
       "      <td>14.23</td>\n",
       "      <td>1.71</td>\n",
       "      <td>2.43</td>\n",
       "      <td>15.6</td>\n",
       "      <td>127.0</td>\n",
       "      <td>2.80</td>\n",
       "      <td>3.06</td>\n",
       "      <td>0.28</td>\n",
       "      <td>2.29</td>\n",
       "      <td>5.64</td>\n",
       "      <td>1.04</td>\n",
       "      <td>3.92</td>\n",
       "      <td>1065.0</td>\n",
       "    </tr>\n",
       "    <tr>\n",
       "      <th>1</th>\n",
       "      <td>13.20</td>\n",
       "      <td>1.78</td>\n",
       "      <td>2.14</td>\n",
       "      <td>11.2</td>\n",
       "      <td>100.0</td>\n",
       "      <td>2.65</td>\n",
       "      <td>2.76</td>\n",
       "      <td>0.26</td>\n",
       "      <td>1.28</td>\n",
       "      <td>4.38</td>\n",
       "      <td>1.05</td>\n",
       "      <td>3.40</td>\n",
       "      <td>1050.0</td>\n",
       "    </tr>\n",
       "    <tr>\n",
       "      <th>2</th>\n",
       "      <td>13.16</td>\n",
       "      <td>2.36</td>\n",
       "      <td>2.67</td>\n",
       "      <td>18.6</td>\n",
       "      <td>101.0</td>\n",
       "      <td>2.80</td>\n",
       "      <td>3.24</td>\n",
       "      <td>0.30</td>\n",
       "      <td>2.81</td>\n",
       "      <td>5.68</td>\n",
       "      <td>1.03</td>\n",
       "      <td>3.17</td>\n",
       "      <td>1185.0</td>\n",
       "    </tr>\n",
       "    <tr>\n",
       "      <th>3</th>\n",
       "      <td>14.37</td>\n",
       "      <td>1.95</td>\n",
       "      <td>2.50</td>\n",
       "      <td>16.8</td>\n",
       "      <td>113.0</td>\n",
       "      <td>3.85</td>\n",
       "      <td>3.49</td>\n",
       "      <td>0.24</td>\n",
       "      <td>2.18</td>\n",
       "      <td>7.80</td>\n",
       "      <td>0.86</td>\n",
       "      <td>3.45</td>\n",
       "      <td>1480.0</td>\n",
       "    </tr>\n",
       "    <tr>\n",
       "      <th>4</th>\n",
       "      <td>13.24</td>\n",
       "      <td>2.59</td>\n",
       "      <td>2.87</td>\n",
       "      <td>21.0</td>\n",
       "      <td>118.0</td>\n",
       "      <td>2.80</td>\n",
       "      <td>2.69</td>\n",
       "      <td>0.39</td>\n",
       "      <td>1.82</td>\n",
       "      <td>4.32</td>\n",
       "      <td>1.04</td>\n",
       "      <td>2.93</td>\n",
       "      <td>735.0</td>\n",
       "    </tr>\n",
       "  </tbody>\n",
       "</table>\n",
       "</div>"
      ],
      "text/plain": [
       "   alcohol  malic_acid   ash  alcalinity_of_ash  magnesium  total_phenols  \\\n",
       "0    14.23        1.71  2.43               15.6      127.0           2.80   \n",
       "1    13.20        1.78  2.14               11.2      100.0           2.65   \n",
       "2    13.16        2.36  2.67               18.6      101.0           2.80   \n",
       "3    14.37        1.95  2.50               16.8      113.0           3.85   \n",
       "4    13.24        2.59  2.87               21.0      118.0           2.80   \n",
       "\n",
       "   flavanoids  nonflavanoid_phenols  proanthocyanins  color_intensity   hue  \\\n",
       "0        3.06                  0.28             2.29             5.64  1.04   \n",
       "1        2.76                  0.26             1.28             4.38  1.05   \n",
       "2        3.24                  0.30             2.81             5.68  1.03   \n",
       "3        3.49                  0.24             2.18             7.80  0.86   \n",
       "4        2.69                  0.39             1.82             4.32  1.04   \n",
       "\n",
       "   od280/od315_of_diluted_wines  proline  \n",
       "0                          3.92   1065.0  \n",
       "1                          3.40   1050.0  \n",
       "2                          3.17   1185.0  \n",
       "3                          3.45   1480.0  \n",
       "4                          2.93    735.0  "
      ]
     },
     "execution_count": 2,
     "metadata": {},
     "output_type": "execute_result"
    }
   ],
   "source": [
    "# load dataset\n",
    "data = load_wine()\n",
    "\n",
    "df = pd.DataFrame(data.data, columns=data.feature_names)\n",
    "df.head()"
   ]
  },
  {
   "cell_type": "code",
   "execution_count": 3,
   "metadata": {
    "colab": {},
    "colab_type": "code",
    "id": "BhJl5AM_zcfG"
   },
   "outputs": [],
   "source": [
    "# feature matrix\n",
    "X = data.data\n",
    "\n",
    "# target vector\n",
    "y = data.target\n",
    "\n",
    "# class labels\n",
    "labels = data.feature_names"
   ]
  },
  {
   "cell_type": "code",
   "execution_count": null,
   "metadata": {
    "colab": {},
    "colab_type": "code",
    "id": "oir5tTuwzgmO"
   },
   "outputs": [],
   "source": [
    "# print dataset description\n",
    "print(data.DESCR)"
   ]
  },
  {
   "cell_type": "code",
   "execution_count": 4,
   "metadata": {
    "colab": {},
    "colab_type": "code",
    "id": "zmAR_uR477wA"
   },
   "outputs": [],
   "source": [
    "# Split dataset into training set and test set\n",
    "X_train, X_test, y_train, y_test = train_test_split(X, y, test_size=0.3, random_state=1) # 70% training and 30% test"
   ]
  },
  {
   "cell_type": "code",
   "execution_count": 5,
   "metadata": {
    "colab": {},
    "colab_type": "code",
    "id": "tK670oAZ8Nqw"
   },
   "outputs": [],
   "source": [
    "# Create Decision Tree classifer object\n",
    "clf = DecisionTreeClassifier(criterion=\"entropy\", max_depth=None)\n",
    "\n",
    "# Train Decision Tree Classifer\n",
    "clf = clf.fit(X_train,y_train)\n",
    "\n",
    "\n",
    "#Predict the response for test dataset\n",
    "# y_pred_train = clf.predict(X_train)\n",
    "\n",
    "#Predict the response for test dataset\n",
    "y_pred = clf.predict(X_test)\n",
    "\n",
    "# Mean accuracy of test data and label\n",
    "y_score = clf.score(X,y)\n",
    "# y_score_train = clf.score(X_train,y_train)\n",
    "# y_score_test = clf.score(X_test,y_test)\n",
    "\n",
    "\n",
    "# print(y_pred_train)\n",
    "# print(y_pred)\n",
    "# print(y_score)\n",
    "# print(y_score_train)\n",
    "# print(y_score_test)"
   ]
  },
  {
   "cell_type": "code",
   "execution_count": 6,
   "metadata": {},
   "outputs": [
    {
     "name": "stdout",
     "output_type": "stream",
     "text": [
      "[[22  1  0]\n",
      " [ 1 18  0]\n",
      " [ 0  1 11]]\n"
     ]
    }
   ],
   "source": [
    "cnf_mtx_test = confusion_matrix(y_test,y_pred)\n",
    "print(cnf_mtx_test)\n",
    "# tn, fp, fn, tp = confusion_matrix(y_test,y_pred).ravel()\n",
    "# print(tn)"
   ]
  },
  {
   "cell_type": "markdown",
   "metadata": {},
   "source": [
    "Definition of Score Average \n",
    "- None : Not average. Return average score for each class. You can see that there're three scores.\n",
    "- Micro : \n",
    "    - TP,TN,FP,FN for each class is calculated and sum up \n",
    "        - ie. we have 3 classes of wine. Micro average will calculate TP0,TN0,FP0,FN0 / TP1,TN1,FP1,FN1 / TP2,TN2,FP2,FN2\n",
    "        - Total TP = TP0+TP1+TP2 , Total TN = TN0+TN1+TN2\n",
    "        - Total FP = FP0+FP1+FP2 , Total FN = FN0+FN1+FN2\n",
    "    - Calculate Score\n",
    "        - ( Total TP ) / ( Total TP + Total FN )\n",
    "- Macro : ( Unweighted )\n",
    "    - Calculate Score ( Precision, Recall ) of each class.\n",
    "        - Prc of class0 , Prc of class1 , Prc of class2\n",
    "    - Average them\n",
    "        - ( Prc of class0 + Prc of class1 + Prc of class2 ) / 3 --> 3 refer to num of class\n",
    "- Weighted : Macro with weighted\n",
    "    - Calculate Score ( Precision, Recall ) of each class.\n",
    "    - Average them. Same as Macro but need to weight.\n",
    "    - Weight is calculated by support ( probability of each class )\n",
    "        - [ (w0 * Prc of class0) + (w1 * Prc of class1) + (w2*Prc of class2) ] / 3\n",
    "   \n",
    "\n",
    "* Macro is good for overall performance. Micro, on the other hand, good when each class sizes are varies.\n",
    "* Weighted improve Macro with class imbalance.\n",
    "\n",
    "   \n",
    "**Ref : https://towardsdatascience.com/journey-to-the-center-of-multi-label-classification-384c40229bff\n",
    "       "
   ]
  },
  {
   "cell_type": "code",
   "execution_count": 7,
   "metadata": {
    "colab": {
     "base_uri": "https://localhost:8080/",
     "height": 294
    },
    "colab_type": "code",
    "id": "bD4qqG_G8TTA",
    "outputId": "25ab41f4-89d7-4024-8233-0e31917bdb6f"
   },
   "outputs": [
    {
     "name": "stdout",
     "output_type": "stream",
     "text": [
      "Accuracy: 0.9444444444444444\n",
      "-----\n",
      "Precision None: [0.95652174 0.9        1.        ]\n",
      "Precision Macro: 0.9521739130434783\n",
      "Precision Micro: 0.9444444444444444\n",
      "Precision Weighted: 0.9462962962962963\n",
      "-----\n",
      "Recall None: [0.95652174 0.94736842 0.91666667]\n",
      "Recall Macro: 0.940185608949911\n",
      "Recall Micro: 0.9444444444444444\n",
      "Recall Weighted: 0.9444444444444444\n",
      "-----\n",
      "F1 None: [0.95652174 0.92307692 0.95652174]\n",
      "F1 Macro: 0.9453734671125975\n",
      "F1 Micro: 0.9444444444444444\n",
      "F1 Weighted: 0.9447541186671622\n"
     ]
    }
   ],
   "source": [
    "# https://scikit-learn.org/stable/modules/classes.html#classification-metrics\n",
    "\n",
    "# Model Accuracy, how often is the classifier correct?\n",
    "# print(\"Accuracy Training:\",metrics.accuracy_score(y_train, y_pred_train))\n",
    "print(\"Accuracy:\",metrics.accuracy_score(y_test, y_pred))\n",
    "\n",
    "# y_test = test dataset\n",
    "# y_pred = answer\n",
    "\n",
    "print(\"-\"*5)\n",
    "# https://scikit-learn.org/stable/modules/generated/sklearn.metrics.precision_score.html#sklearn.metrics.precision_score\n",
    "print(\"Precision None:\",metrics.precision_score(y_test, y_pred, average=None)  ) \n",
    "print(\"Precision Macro:\",metrics.precision_score(y_test, y_pred, average='macro')  ) \n",
    "print(\"Precision Micro:\",metrics.precision_score(y_test, y_pred, average='micro')  ) \n",
    "print(\"Precision Weighted:\",metrics.precision_score(y_test, y_pred, average='weighted')  ) \n",
    "\n",
    "\n",
    "print(\"-\"*5)\n",
    "# https://scikit-learn.org/stable/modules/generated/sklearn.metrics.recall_score.html\n",
    "print(\"Recall None:\",metrics.recall_score(y_test, y_pred,average=None)) \n",
    "print(\"Recall Macro:\",metrics.recall_score(y_test, y_pred,average='macro'))\n",
    "print(\"Recall Micro:\",metrics.recall_score(y_test, y_pred,average='micro'))\n",
    "print(\"Recall Weighted:\",metrics.recall_score(y_test, y_pred,average='weighted')) \n",
    "\n",
    "\n",
    "print(\"-\"*5)\n",
    "# https://scikit-learn.org/stable/modules/generated/sklearn.metrics.f1_score.html#sklearn.metrics.f1_score\n",
    "print(\"F1 None:\",metrics.f1_score(y_test, y_pred,average=None)) \n",
    "print(\"F1 Macro:\",metrics.f1_score(y_test, y_pred,average='macro'))\n",
    "print(\"F1 Micro:\",metrics.f1_score(y_test, y_pred,average='micro'))\n",
    "print(\"F1 Weighted:\",metrics.f1_score(y_test, y_pred,average='weighted')) \n",
    "\n",
    "\n"
   ]
  },
  {
   "cell_type": "markdown",
   "metadata": {},
   "source": [
    "==== Results ====\n",
    "\n",
    "พบว่าผลของ Precision, Recall เกิดขึ้นได้ 3 แบบ คือ\n",
    "- Precision = Recall : โมเดลทำนายถูกคลาสที่สนใจ และจำคลาสที่สนใจได้พอๆกัน   FP = FN\n",
    "- Precision < Recall : โมเดลจำคลาสที่เราสนใจได้ดี แต่ยังมีที่ทำนายผิดว่าไม่ใช่คลาสที่เราสนใจ แต่จริงๆแล้วเป็น FN < FP \n",
    "- Precision > Recall : จำนวนผลทำนาย ตรงกับคลาสที่เราสนใจเยอะ แต่ว่ายังครอบคลุมคลาสที่เราสนใจได้ไม่ครบ FP > FN \n",
    "\n",
    "ผลของ Macro, Micro, Weighted ไม่ค่อยต่างกันมากนัก เนื่องจาก การกระจายตัวข้อมูลของแต่ละคลาสมีจำนวนใกล้เคียงกัน\n",
    "Class is balanced.\n",
    "\n",
    "Score ของทั้ง Precision, Recall ไม่ค่อยต่างกันมากนัก ทำให้ F1 Score ( Harmonic Mean of Precision and Recall, Average of Ratio ) มี F1,Precision,Recall ค่าใกล้เคียงกัน\n",
    "\n",
    "\n",
    "- Precision = ที่ predict มา เป็นสิ่งที่เราสนใจเท่าไหร่\n",
    "- Recall = จาก positive ที่มี, predict ตรง positive เท่าไหร่\n"
   ]
  },
  {
   "cell_type": "code",
   "execution_count": 8,
   "metadata": {
    "colab": {
     "base_uri": "https://localhost:8080/",
     "height": 756
    },
    "colab_type": "code",
    "id": "a6UMfjnT84CZ",
    "outputId": "d01d58c3-d728-4be6-98d4-f77cb78e8b56"
   },
   "outputs": [
    {
     "data": {
      "image/svg+xml": [
       "<svg height=\"552pt\" viewBox=\"0.00 0.00 808.00 552.00\" width=\"808pt\" xmlns=\"http://www.w3.org/2000/svg\" xmlns:xlink=\"http://www.w3.org/1999/xlink\">\n",
       "<g class=\"graph\" id=\"graph0\" transform=\"scale(1 1) rotate(0) translate(4 548)\">\n",
       "<title>Tree</title>\n",
       "<polygon fill=\"white\" points=\"-4,4 -4,-548 804,-548 804,4 -4,4\" stroke=\"none\"/>\n",
       "<!-- 0 -->\n",
       "<g class=\"node\" id=\"node1\"><title>0</title>\n",
       "<path d=\"M362,-544C362,-544 249,-544 249,-544 243,-544 237,-538 237,-532 237,-532 237,-473 237,-473 237,-467 243,-461 249,-461 249,-461 362,-461 362,-461 368,-461 374,-467 374,-473 374,-473 374,-532 374,-532 374,-538 368,-544 362,-544\" fill=\"#39e581\" fill-opacity=\"0.180392\" stroke=\"black\"/>\n",
       "<text font-family=\"Helvetica,sans-Serif\" font-size=\"14.00\" text-anchor=\"start\" x=\"247.5\" y=\"-528.8\">flavanoids ≤ 1.575</text>\n",
       "<text font-family=\"Helvetica,sans-Serif\" font-size=\"14.00\" text-anchor=\"start\" x=\"255.5\" y=\"-513.8\">entropy = 1.562</text>\n",
       "<text font-family=\"Helvetica,sans-Serif\" font-size=\"14.00\" text-anchor=\"start\" x=\"258\" y=\"-498.8\">samples = 124</text>\n",
       "<text font-family=\"Helvetica,sans-Serif\" font-size=\"14.00\" text-anchor=\"start\" x=\"245\" y=\"-483.8\">value = [36, 52, 36]</text>\n",
       "<text font-family=\"Helvetica,sans-Serif\" font-size=\"14.00\" text-anchor=\"start\" x=\"276.5\" y=\"-468.8\">class = 1</text>\n",
       "</g>\n",
       "<!-- 1 -->\n",
       "<g class=\"node\" id=\"node2\"><title>1</title>\n",
       "<path d=\"M267,-425C267,-425 132,-425 132,-425 126,-425 120,-419 120,-413 120,-413 120,-354 120,-354 120,-348 126,-342 132,-342 132,-342 267,-342 267,-342 273,-342 279,-348 279,-354 279,-354 279,-413 279,-413 279,-419 273,-425 267,-425\" fill=\"#8139e5\" fill-opacity=\"0.694118\" stroke=\"black\"/>\n",
       "<text font-family=\"Helvetica,sans-Serif\" font-size=\"14.00\" text-anchor=\"start\" x=\"128\" y=\"-409.8\">color_intensity ≤ 3.825</text>\n",
       "<text font-family=\"Helvetica,sans-Serif\" font-size=\"14.00\" text-anchor=\"start\" x=\"149.5\" y=\"-394.8\">entropy = 0.785</text>\n",
       "<text font-family=\"Helvetica,sans-Serif\" font-size=\"14.00\" text-anchor=\"start\" x=\"156\" y=\"-379.8\">samples = 47</text>\n",
       "<text font-family=\"Helvetica,sans-Serif\" font-size=\"14.00\" text-anchor=\"start\" x=\"143\" y=\"-364.8\">value = [0, 11, 36]</text>\n",
       "<text font-family=\"Helvetica,sans-Serif\" font-size=\"14.00\" text-anchor=\"start\" x=\"170.5\" y=\"-349.8\">class = 2</text>\n",
       "</g>\n",
       "<!-- 0&#45;&gt;1 -->\n",
       "<g class=\"edge\" id=\"edge1\"><title>0-&gt;1</title>\n",
       "<path d=\"M268.724,-460.907C260.42,-451.742 251.528,-441.927 242.977,-432.489\" fill=\"none\" stroke=\"black\"/>\n",
       "<polygon fill=\"black\" points=\"245.519,-430.082 236.211,-425.021 240.331,-434.782 245.519,-430.082\" stroke=\"black\"/>\n",
       "<text font-family=\"Helvetica,sans-Serif\" font-size=\"14.00\" text-anchor=\"middle\" x=\"234.979\" y=\"-446.29\">True</text>\n",
       "</g>\n",
       "<!-- 6 -->\n",
       "<g class=\"node\" id=\"node7\"><title>6</title>\n",
       "<path d=\"M465,-425C465,-425 360,-425 360,-425 354,-425 348,-419 348,-413 348,-413 348,-354 348,-354 348,-348 354,-342 360,-342 360,-342 465,-342 465,-342 471,-342 477,-348 477,-354 477,-354 477,-413 477,-413 477,-419 471,-425 465,-425\" fill=\"#39e581\" fill-opacity=\"0.121569\" stroke=\"black\"/>\n",
       "<text font-family=\"Helvetica,sans-Serif\" font-size=\"14.00\" text-anchor=\"start\" x=\"365\" y=\"-409.8\">proline ≤ 740.0</text>\n",
       "<text font-family=\"Helvetica,sans-Serif\" font-size=\"14.00\" text-anchor=\"start\" x=\"362.5\" y=\"-394.8\">entropy = 0.997</text>\n",
       "<text font-family=\"Helvetica,sans-Serif\" font-size=\"14.00\" text-anchor=\"start\" x=\"369\" y=\"-379.8\">samples = 77</text>\n",
       "<text font-family=\"Helvetica,sans-Serif\" font-size=\"14.00\" text-anchor=\"start\" x=\"356\" y=\"-364.8\">value = [36, 41, 0]</text>\n",
       "<text font-family=\"Helvetica,sans-Serif\" font-size=\"14.00\" text-anchor=\"start\" x=\"383.5\" y=\"-349.8\">class = 1</text>\n",
       "</g>\n",
       "<!-- 0&#45;&gt;6 -->\n",
       "<g class=\"edge\" id=\"edge6\"><title>0-&gt;6</title>\n",
       "<path d=\"M342.623,-460.907C351.006,-451.742 359.982,-441.927 368.613,-432.489\" fill=\"none\" stroke=\"black\"/>\n",
       "<polygon fill=\"black\" points=\"371.277,-434.762 375.443,-425.021 366.111,-430.038 371.277,-434.762\" stroke=\"black\"/>\n",
       "<text font-family=\"Helvetica,sans-Serif\" font-size=\"14.00\" text-anchor=\"middle\" x=\"376.557\" y=\"-446.296\">False</text>\n",
       "</g>\n",
       "<!-- 2 -->\n",
       "<g class=\"node\" id=\"node3\"><title>2</title>\n",
       "<path d=\"M109,-298.5C109,-298.5 12,-298.5 12,-298.5 6,-298.5 0,-292.5 0,-286.5 0,-286.5 0,-242.5 0,-242.5 0,-236.5 6,-230.5 12,-230.5 12,-230.5 109,-230.5 109,-230.5 115,-230.5 121,-236.5 121,-242.5 121,-242.5 121,-286.5 121,-286.5 121,-292.5 115,-298.5 109,-298.5\" fill=\"#39e581\" stroke=\"black\"/>\n",
       "<text font-family=\"Helvetica,sans-Serif\" font-size=\"14.00\" text-anchor=\"start\" x=\"18.5\" y=\"-283.3\">entropy = 0.0</text>\n",
       "<text font-family=\"Helvetica,sans-Serif\" font-size=\"14.00\" text-anchor=\"start\" x=\"17\" y=\"-268.3\">samples = 10</text>\n",
       "<text font-family=\"Helvetica,sans-Serif\" font-size=\"14.00\" text-anchor=\"start\" x=\"8\" y=\"-253.3\">value = [0, 10, 0]</text>\n",
       "<text font-family=\"Helvetica,sans-Serif\" font-size=\"14.00\" text-anchor=\"start\" x=\"31.5\" y=\"-238.3\">class = 1</text>\n",
       "</g>\n",
       "<!-- 1&#45;&gt;2 -->\n",
       "<g class=\"edge\" id=\"edge2\"><title>1-&gt;2</title>\n",
       "<path d=\"M151.275,-341.907C137.117,-329.99 121.655,-316.976 107.57,-305.12\" fill=\"none\" stroke=\"black\"/>\n",
       "<polygon fill=\"black\" points=\"109.808,-302.429 99.9035,-298.667 105.3,-307.784 109.808,-302.429\" stroke=\"black\"/>\n",
       "</g>\n",
       "<!-- 3 -->\n",
       "<g class=\"node\" id=\"node4\"><title>3</title>\n",
       "<path d=\"M248,-306C248,-306 151,-306 151,-306 145,-306 139,-300 139,-294 139,-294 139,-235 139,-235 139,-229 145,-223 151,-223 151,-223 248,-223 248,-223 254,-223 260,-229 260,-235 260,-235 260,-294 260,-294 260,-300 254,-306 248,-306\" fill=\"#8139e5\" fill-opacity=\"0.972549\" stroke=\"black\"/>\n",
       "<text font-family=\"Helvetica,sans-Serif\" font-size=\"14.00\" text-anchor=\"start\" x=\"161.5\" y=\"-290.8\">hue ≤ 0.945</text>\n",
       "<text font-family=\"Helvetica,sans-Serif\" font-size=\"14.00\" text-anchor=\"start\" x=\"149.5\" y=\"-275.8\">entropy = 0.179</text>\n",
       "<text font-family=\"Helvetica,sans-Serif\" font-size=\"14.00\" text-anchor=\"start\" x=\"156\" y=\"-260.8\">samples = 37</text>\n",
       "<text font-family=\"Helvetica,sans-Serif\" font-size=\"14.00\" text-anchor=\"start\" x=\"147\" y=\"-245.8\">value = [0, 1, 36]</text>\n",
       "<text font-family=\"Helvetica,sans-Serif\" font-size=\"14.00\" text-anchor=\"start\" x=\"170.5\" y=\"-230.8\">class = 2</text>\n",
       "</g>\n",
       "<!-- 1&#45;&gt;3 -->\n",
       "<g class=\"edge\" id=\"edge3\"><title>1-&gt;3</title>\n",
       "<path d=\"M199.5,-341.907C199.5,-333.649 199.5,-324.864 199.5,-316.302\" fill=\"none\" stroke=\"black\"/>\n",
       "<polygon fill=\"black\" points=\"203,-316.021 199.5,-306.021 196,-316.021 203,-316.021\" stroke=\"black\"/>\n",
       "</g>\n",
       "<!-- 4 -->\n",
       "<g class=\"node\" id=\"node5\"><title>4</title>\n",
       "<path d=\"M113,-179.5C113,-179.5 16,-179.5 16,-179.5 10,-179.5 4,-173.5 4,-167.5 4,-167.5 4,-123.5 4,-123.5 4,-117.5 10,-111.5 16,-111.5 16,-111.5 113,-111.5 113,-111.5 119,-111.5 125,-117.5 125,-123.5 125,-123.5 125,-167.5 125,-167.5 125,-173.5 119,-179.5 113,-179.5\" fill=\"#8139e5\" stroke=\"black\"/>\n",
       "<text font-family=\"Helvetica,sans-Serif\" font-size=\"14.00\" text-anchor=\"start\" x=\"22.5\" y=\"-164.3\">entropy = 0.0</text>\n",
       "<text font-family=\"Helvetica,sans-Serif\" font-size=\"14.00\" text-anchor=\"start\" x=\"21\" y=\"-149.3\">samples = 36</text>\n",
       "<text font-family=\"Helvetica,sans-Serif\" font-size=\"14.00\" text-anchor=\"start\" x=\"12\" y=\"-134.3\">value = [0, 0, 36]</text>\n",
       "<text font-family=\"Helvetica,sans-Serif\" font-size=\"14.00\" text-anchor=\"start\" x=\"35.5\" y=\"-119.3\">class = 2</text>\n",
       "</g>\n",
       "<!-- 3&#45;&gt;4 -->\n",
       "<g class=\"edge\" id=\"edge4\"><title>3-&gt;4</title>\n",
       "<path d=\"M152.662,-222.907C139.039,-211.101 124.173,-198.217 110.596,-186.45\" fill=\"none\" stroke=\"black\"/>\n",
       "<polygon fill=\"black\" points=\"112.619,-183.571 102.77,-179.667 108.034,-188.861 112.619,-183.571\" stroke=\"black\"/>\n",
       "</g>\n",
       "<!-- 5 -->\n",
       "<g class=\"node\" id=\"node6\"><title>5</title>\n",
       "<path d=\"M244,-179.5C244,-179.5 155,-179.5 155,-179.5 149,-179.5 143,-173.5 143,-167.5 143,-167.5 143,-123.5 143,-123.5 143,-117.5 149,-111.5 155,-111.5 155,-111.5 244,-111.5 244,-111.5 250,-111.5 256,-117.5 256,-123.5 256,-123.5 256,-167.5 256,-167.5 256,-173.5 250,-179.5 244,-179.5\" fill=\"#39e581\" stroke=\"black\"/>\n",
       "<text font-family=\"Helvetica,sans-Serif\" font-size=\"14.00\" text-anchor=\"start\" x=\"157.5\" y=\"-164.3\">entropy = 0.0</text>\n",
       "<text font-family=\"Helvetica,sans-Serif\" font-size=\"14.00\" text-anchor=\"start\" x=\"160\" y=\"-149.3\">samples = 1</text>\n",
       "<text font-family=\"Helvetica,sans-Serif\" font-size=\"14.00\" text-anchor=\"start\" x=\"151\" y=\"-134.3\">value = [0, 1, 0]</text>\n",
       "<text font-family=\"Helvetica,sans-Serif\" font-size=\"14.00\" text-anchor=\"start\" x=\"170.5\" y=\"-119.3\">class = 1</text>\n",
       "</g>\n",
       "<!-- 3&#45;&gt;5 -->\n",
       "<g class=\"edge\" id=\"edge5\"><title>3-&gt;5</title>\n",
       "<path d=\"M199.5,-222.907C199.5,-212.204 199.5,-200.615 199.5,-189.776\" fill=\"none\" stroke=\"black\"/>\n",
       "<polygon fill=\"black\" points=\"203,-189.667 199.5,-179.667 196,-189.667 203,-189.667\" stroke=\"black\"/>\n",
       "</g>\n",
       "<!-- 7 -->\n",
       "<g class=\"node\" id=\"node8\"><title>7</title>\n",
       "<path d=\"M461.5,-306C461.5,-306 363.5,-306 363.5,-306 357.5,-306 351.5,-300 351.5,-294 351.5,-294 351.5,-235 351.5,-235 351.5,-229 357.5,-223 363.5,-223 363.5,-223 461.5,-223 461.5,-223 467.5,-223 473.5,-229 473.5,-235 473.5,-235 473.5,-294 473.5,-294 473.5,-300 467.5,-306 461.5,-306\" fill=\"#39e581\" fill-opacity=\"0.972549\" stroke=\"black\"/>\n",
       "<text font-family=\"Helvetica,sans-Serif\" font-size=\"14.00\" text-anchor=\"start\" x=\"359.5\" y=\"-290.8\">alcohol ≤ 13.175</text>\n",
       "<text font-family=\"Helvetica,sans-Serif\" font-size=\"14.00\" text-anchor=\"start\" x=\"362.5\" y=\"-275.8\">entropy = 0.169</text>\n",
       "<text font-family=\"Helvetica,sans-Serif\" font-size=\"14.00\" text-anchor=\"start\" x=\"369\" y=\"-260.8\">samples = 40</text>\n",
       "<text font-family=\"Helvetica,sans-Serif\" font-size=\"14.00\" text-anchor=\"start\" x=\"360\" y=\"-245.8\">value = [1, 39, 0]</text>\n",
       "<text font-family=\"Helvetica,sans-Serif\" font-size=\"14.00\" text-anchor=\"start\" x=\"383.5\" y=\"-230.8\">class = 1</text>\n",
       "</g>\n",
       "<!-- 6&#45;&gt;7 -->\n",
       "<g class=\"edge\" id=\"edge7\"><title>6-&gt;7</title>\n",
       "<path d=\"M412.5,-341.907C412.5,-333.649 412.5,-324.864 412.5,-316.302\" fill=\"none\" stroke=\"black\"/>\n",
       "<polygon fill=\"black\" points=\"416,-316.021 412.5,-306.021 409,-316.021 416,-316.021\" stroke=\"black\"/>\n",
       "</g>\n",
       "<!-- 12 -->\n",
       "<g class=\"node\" id=\"node13\"><title>12</title>\n",
       "<path d=\"M653,-306C653,-306 556,-306 556,-306 550,-306 544,-300 544,-294 544,-294 544,-235 544,-235 544,-229 550,-223 556,-223 556,-223 653,-223 653,-223 659,-223 665,-229 665,-235 665,-235 665,-294 665,-294 665,-300 659,-306 653,-306\" fill=\"#e58139\" fill-opacity=\"0.941176\" stroke=\"black\"/>\n",
       "<text font-family=\"Helvetica,sans-Serif\" font-size=\"14.00\" text-anchor=\"start\" x=\"556\" y=\"-290.8\">alcohol ≤ 12.66</text>\n",
       "<text font-family=\"Helvetica,sans-Serif\" font-size=\"14.00\" text-anchor=\"start\" x=\"554.5\" y=\"-275.8\">entropy = 0.303</text>\n",
       "<text font-family=\"Helvetica,sans-Serif\" font-size=\"14.00\" text-anchor=\"start\" x=\"561\" y=\"-260.8\">samples = 37</text>\n",
       "<text font-family=\"Helvetica,sans-Serif\" font-size=\"14.00\" text-anchor=\"start\" x=\"552\" y=\"-245.8\">value = [35, 2, 0]</text>\n",
       "<text font-family=\"Helvetica,sans-Serif\" font-size=\"14.00\" text-anchor=\"start\" x=\"575.5\" y=\"-230.8\">class = 0</text>\n",
       "</g>\n",
       "<!-- 6&#45;&gt;12 -->\n",
       "<g class=\"edge\" id=\"edge12\"><title>6-&gt;12</title>\n",
       "<path d=\"M477.235,-343.052C495.927,-331.661 516.396,-319.189 535.346,-307.641\" fill=\"none\" stroke=\"black\"/>\n",
       "<polygon fill=\"black\" points=\"537.216,-310.6 543.934,-302.407 533.574,-304.622 537.216,-310.6\" stroke=\"black\"/>\n",
       "</g>\n",
       "<!-- 8 -->\n",
       "<g class=\"node\" id=\"node9\"><title>8</title>\n",
       "<path d=\"M383,-179.5C383,-179.5 286,-179.5 286,-179.5 280,-179.5 274,-173.5 274,-167.5 274,-167.5 274,-123.5 274,-123.5 274,-117.5 280,-111.5 286,-111.5 286,-111.5 383,-111.5 383,-111.5 389,-111.5 395,-117.5 395,-123.5 395,-123.5 395,-167.5 395,-167.5 395,-173.5 389,-179.5 383,-179.5\" fill=\"#39e581\" stroke=\"black\"/>\n",
       "<text font-family=\"Helvetica,sans-Serif\" font-size=\"14.00\" text-anchor=\"start\" x=\"292.5\" y=\"-164.3\">entropy = 0.0</text>\n",
       "<text font-family=\"Helvetica,sans-Serif\" font-size=\"14.00\" text-anchor=\"start\" x=\"291\" y=\"-149.3\">samples = 36</text>\n",
       "<text font-family=\"Helvetica,sans-Serif\" font-size=\"14.00\" text-anchor=\"start\" x=\"282\" y=\"-134.3\">value = [0, 36, 0]</text>\n",
       "<text font-family=\"Helvetica,sans-Serif\" font-size=\"14.00\" text-anchor=\"start\" x=\"305.5\" y=\"-119.3\">class = 1</text>\n",
       "</g>\n",
       "<!-- 7&#45;&gt;8 -->\n",
       "<g class=\"edge\" id=\"edge8\"><title>7-&gt;8</title>\n",
       "<path d=\"M385.438,-222.907C377.935,-211.652 369.779,-199.418 362.237,-188.106\" fill=\"none\" stroke=\"black\"/>\n",
       "<polygon fill=\"black\" points=\"365.071,-186.046 356.611,-179.667 359.246,-189.929 365.071,-186.046\" stroke=\"black\"/>\n",
       "</g>\n",
       "<!-- 9 -->\n",
       "<g class=\"node\" id=\"node10\"><title>9</title>\n",
       "<path d=\"M517.5,-187C517.5,-187 425.5,-187 425.5,-187 419.5,-187 413.5,-181 413.5,-175 413.5,-175 413.5,-116 413.5,-116 413.5,-110 419.5,-104 425.5,-104 425.5,-104 517.5,-104 517.5,-104 523.5,-104 529.5,-110 529.5,-116 529.5,-116 529.5,-175 529.5,-175 529.5,-181 523.5,-187 517.5,-187\" fill=\"#39e581\" fill-opacity=\"0.666667\" stroke=\"black\"/>\n",
       "<text font-family=\"Helvetica,sans-Serif\" font-size=\"14.00\" text-anchor=\"start\" x=\"442\" y=\"-171.8\">hue ≤ 0.9</text>\n",
       "<text font-family=\"Helvetica,sans-Serif\" font-size=\"14.00\" text-anchor=\"start\" x=\"421.5\" y=\"-156.8\">entropy = 0.811</text>\n",
       "<text font-family=\"Helvetica,sans-Serif\" font-size=\"14.00\" text-anchor=\"start\" x=\"432\" y=\"-141.8\">samples = 4</text>\n",
       "<text font-family=\"Helvetica,sans-Serif\" font-size=\"14.00\" text-anchor=\"start\" x=\"423\" y=\"-126.8\">value = [1, 3, 0]</text>\n",
       "<text font-family=\"Helvetica,sans-Serif\" font-size=\"14.00\" text-anchor=\"start\" x=\"442.5\" y=\"-111.8\">class = 1</text>\n",
       "</g>\n",
       "<!-- 7&#45;&gt;9 -->\n",
       "<g class=\"edge\" id=\"edge9\"><title>7-&gt;9</title>\n",
       "<path d=\"M432.97,-222.907C437.317,-214.286 441.954,-205.09 446.45,-196.175\" fill=\"none\" stroke=\"black\"/>\n",
       "<polygon fill=\"black\" points=\"449.689,-197.526 451.066,-187.021 443.439,-194.374 449.689,-197.526\" stroke=\"black\"/>\n",
       "</g>\n",
       "<!-- 10 -->\n",
       "<g class=\"node\" id=\"node11\"><title>10</title>\n",
       "<path d=\"M450,-68C450,-68 361,-68 361,-68 355,-68 349,-62 349,-56 349,-56 349,-12 349,-12 349,-6 355,-0 361,-0 361,-0 450,-0 450,-0 456,-0 462,-6 462,-12 462,-12 462,-56 462,-56 462,-62 456,-68 450,-68\" fill=\"#e58139\" stroke=\"black\"/>\n",
       "<text font-family=\"Helvetica,sans-Serif\" font-size=\"14.00\" text-anchor=\"start\" x=\"363.5\" y=\"-52.8\">entropy = 0.0</text>\n",
       "<text font-family=\"Helvetica,sans-Serif\" font-size=\"14.00\" text-anchor=\"start\" x=\"366\" y=\"-37.8\">samples = 1</text>\n",
       "<text font-family=\"Helvetica,sans-Serif\" font-size=\"14.00\" text-anchor=\"start\" x=\"357\" y=\"-22.8\">value = [1, 0, 0]</text>\n",
       "<text font-family=\"Helvetica,sans-Serif\" font-size=\"14.00\" text-anchor=\"start\" x=\"376.5\" y=\"-7.8\">class = 0</text>\n",
       "</g>\n",
       "<!-- 9&#45;&gt;10 -->\n",
       "<g class=\"edge\" id=\"edge10\"><title>9-&gt;10</title>\n",
       "<path d=\"M446.924,-103.726C441.646,-94.9703 436.061,-85.7032 430.758,-76.9051\" fill=\"none\" stroke=\"black\"/>\n",
       "<polygon fill=\"black\" points=\"433.731,-75.0574 425.571,-68.2996 427.736,-78.671 433.731,-75.0574\" stroke=\"black\"/>\n",
       "</g>\n",
       "<!-- 11 -->\n",
       "<g class=\"node\" id=\"node12\"><title>11</title>\n",
       "<path d=\"M581,-68C581,-68 492,-68 492,-68 486,-68 480,-62 480,-56 480,-56 480,-12 480,-12 480,-6 486,-0 492,-0 492,-0 581,-0 581,-0 587,-0 593,-6 593,-12 593,-12 593,-56 593,-56 593,-62 587,-68 581,-68\" fill=\"#39e581\" stroke=\"black\"/>\n",
       "<text font-family=\"Helvetica,sans-Serif\" font-size=\"14.00\" text-anchor=\"start\" x=\"494.5\" y=\"-52.8\">entropy = 0.0</text>\n",
       "<text font-family=\"Helvetica,sans-Serif\" font-size=\"14.00\" text-anchor=\"start\" x=\"497\" y=\"-37.8\">samples = 3</text>\n",
       "<text font-family=\"Helvetica,sans-Serif\" font-size=\"14.00\" text-anchor=\"start\" x=\"488\" y=\"-22.8\">value = [0, 3, 0]</text>\n",
       "<text font-family=\"Helvetica,sans-Serif\" font-size=\"14.00\" text-anchor=\"start\" x=\"507.5\" y=\"-7.8\">class = 1</text>\n",
       "</g>\n",
       "<!-- 9&#45;&gt;11 -->\n",
       "<g class=\"edge\" id=\"edge11\"><title>9-&gt;11</title>\n",
       "<path d=\"M495.704,-103.726C500.901,-94.9703 506.402,-85.7032 511.625,-76.9051\" fill=\"none\" stroke=\"black\"/>\n",
       "<polygon fill=\"black\" points=\"514.638,-78.6853 516.733,-68.2996 508.619,-75.1121 514.638,-78.6853\" stroke=\"black\"/>\n",
       "</g>\n",
       "<!-- 13 -->\n",
       "<g class=\"node\" id=\"node14\"><title>13</title>\n",
       "<path d=\"M649,-179.5C649,-179.5 560,-179.5 560,-179.5 554,-179.5 548,-173.5 548,-167.5 548,-167.5 548,-123.5 548,-123.5 548,-117.5 554,-111.5 560,-111.5 560,-111.5 649,-111.5 649,-111.5 655,-111.5 661,-117.5 661,-123.5 661,-123.5 661,-167.5 661,-167.5 661,-173.5 655,-179.5 649,-179.5\" fill=\"#39e581\" stroke=\"black\"/>\n",
       "<text font-family=\"Helvetica,sans-Serif\" font-size=\"14.00\" text-anchor=\"start\" x=\"562.5\" y=\"-164.3\">entropy = 0.0</text>\n",
       "<text font-family=\"Helvetica,sans-Serif\" font-size=\"14.00\" text-anchor=\"start\" x=\"565\" y=\"-149.3\">samples = 2</text>\n",
       "<text font-family=\"Helvetica,sans-Serif\" font-size=\"14.00\" text-anchor=\"start\" x=\"556\" y=\"-134.3\">value = [0, 2, 0]</text>\n",
       "<text font-family=\"Helvetica,sans-Serif\" font-size=\"14.00\" text-anchor=\"start\" x=\"575.5\" y=\"-119.3\">class = 1</text>\n",
       "</g>\n",
       "<!-- 12&#45;&gt;13 -->\n",
       "<g class=\"edge\" id=\"edge13\"><title>12-&gt;13</title>\n",
       "<path d=\"M604.5,-222.907C604.5,-212.204 604.5,-200.615 604.5,-189.776\" fill=\"none\" stroke=\"black\"/>\n",
       "<polygon fill=\"black\" points=\"608,-189.667 604.5,-179.667 601,-189.667 608,-189.667\" stroke=\"black\"/>\n",
       "</g>\n",
       "<!-- 14 -->\n",
       "<g class=\"node\" id=\"node15\"><title>14</title>\n",
       "<path d=\"M788,-179.5C788,-179.5 691,-179.5 691,-179.5 685,-179.5 679,-173.5 679,-167.5 679,-167.5 679,-123.5 679,-123.5 679,-117.5 685,-111.5 691,-111.5 691,-111.5 788,-111.5 788,-111.5 794,-111.5 800,-117.5 800,-123.5 800,-123.5 800,-167.5 800,-167.5 800,-173.5 794,-179.5 788,-179.5\" fill=\"#e58139\" stroke=\"black\"/>\n",
       "<text font-family=\"Helvetica,sans-Serif\" font-size=\"14.00\" text-anchor=\"start\" x=\"697.5\" y=\"-164.3\">entropy = 0.0</text>\n",
       "<text font-family=\"Helvetica,sans-Serif\" font-size=\"14.00\" text-anchor=\"start\" x=\"696\" y=\"-149.3\">samples = 35</text>\n",
       "<text font-family=\"Helvetica,sans-Serif\" font-size=\"14.00\" text-anchor=\"start\" x=\"687\" y=\"-134.3\">value = [35, 0, 0]</text>\n",
       "<text font-family=\"Helvetica,sans-Serif\" font-size=\"14.00\" text-anchor=\"start\" x=\"710.5\" y=\"-119.3\">class = 0</text>\n",
       "</g>\n",
       "<!-- 12&#45;&gt;14 -->\n",
       "<g class=\"edge\" id=\"edge14\"><title>12-&gt;14</title>\n",
       "<path d=\"M651.338,-222.907C664.961,-211.101 679.827,-198.217 693.404,-186.45\" fill=\"none\" stroke=\"black\"/>\n",
       "<polygon fill=\"black\" points=\"695.966,-188.861 701.23,-179.667 691.381,-183.571 695.966,-188.861\" stroke=\"black\"/>\n",
       "</g>\n",
       "</g>\n",
       "</svg>"
      ],
      "text/plain": [
       "<IPython.core.display.SVG object>"
      ]
     },
     "metadata": {},
     "output_type": "display_data"
    }
   ],
   "source": [
    "graph = Source(export_graphviz(clf, out_file=None,  \n",
    "                filled=True, rounded=True,\n",
    "                special_characters=True,feature_names = labels,class_names=['0','1','2']))\n",
    "\n",
    "display(SVG(graph.pipe(format='svg')))"
   ]
  },
  {
   "cell_type": "markdown",
   "metadata": {},
   "source": [
    "Decision Tree ที่ได้จากการเทรน มีทั้งหมด 5 Level \n",
    "- เห็นได้ชัดเจนว่าที่ Leaf Node แบ่งคลาสออกมาได้ค่อนข้างชัดมาก นั่นคือ ขนาดของ Leaf Node ที่่ระบุ class 0,1,2 มีขนาดใหญ่\n",
    "- จากทั้งหมด 13 Attribute เราสามารถใช้เพียง 5 Attribute เท่านั้นในการแบ่งคลาส ประกอบด้วย Flavanoids, Color_Intensity, Proline, Hue, Alcohol\n",
    "- Class0 : \n",
    "    - Flavanoids > 1.575 \n",
    "    - Proline > 740\n",
    "    - Alcohol > 12.66\n",
    "- Class1 : \n",
    "    - Flavanoids > 1.575 \n",
    "    - Proline <= 740\n",
    "    - Alcohol <= 13.175\n",
    "- Class2 : \n",
    "    - Flavanoids <= 1.575 \n",
    "    - Color_Intensity > 3.825\n",
    "    - Hue > 0.945"
   ]
  },
  {
   "cell_type": "code",
   "execution_count": 9,
   "metadata": {
    "colab": {},
    "colab_type": "code",
    "id": "z6s46IYKmArW"
   },
   "outputs": [],
   "source": [
    "from sklearn.preprocessing import label_binarize\n",
    "y = label_binarize(y, classes=[0, 1, 2])\n",
    "from sklearn.multiclass import OneVsRestClassifier\n",
    "X_train, X_test, y_train, y_test = train_test_split(X, y, test_size=.3,random_state=1)\n",
    "clf = OneVsRestClassifier(DecisionTreeClassifier(criterion=\"entropy\", max_depth=None))\n",
    "y_score = clf.fit(X_train, y_train).predict_proba(X_test)"
   ]
  },
  {
   "cell_type": "code",
   "execution_count": 11,
   "metadata": {
    "colab": {
     "base_uri": "https://localhost:8080/",
     "height": 1094
    },
    "colab_type": "code",
    "id": "Fw5DwvEUnSkB",
    "outputId": "64a10f65-0d40-48a9-e229-b1e7f2e54a7e"
   },
   "outputs": [
    {
     "data": {
      "image/png": "[encoded data removed]",
      "text/plain": [
       "<Figure size 432x288 with 1 Axes>"
      ]
     },
     "metadata": {
      "needs_background": "light"
     },
     "output_type": "display_data"
    },
    {
     "data": {
      "image/png": "[encoded data removed]",
      "text/plain": [
       "<Figure size 432x288 with 1 Axes>"
      ]
     },
     "metadata": {
      "needs_background": "light"
     },
     "output_type": "display_data"
    },
    {
     "data": {
      "image/png": "[encoded data removed]",
      "text/plain": [
       "<Figure size 432x288 with 1 Axes>"
      ]
     },
     "metadata": {
      "needs_background": "light"
     },
     "output_type": "display_data"
    }
   ],
   "source": [
    "import matplotlib.pyplot as plt\n",
    "from sklearn.metrics import roc_curve, auc\n",
    "n_classes = 3\n",
    "fpr = dict()\n",
    "tpr = dict()\n",
    "roc_auc = dict()\n",
    "for i in range(n_classes):\n",
    "    fpr[i], tpr[i], _ = roc_curve(y_test[:, i], y_score[:, i])\n",
    "    roc_auc[i] = auc(fpr[i], tpr[i])\n",
    "\n",
    "# Plot of a ROC curve for a specific class\n",
    "for i in range(n_classes):\n",
    "    plt.figure()\n",
    "    plt.plot(fpr[i], tpr[i], label='ROC curve (area = %0.2f)' % roc_auc[i])\n",
    "    plt.plot([0, 1], [0, 1], 'k--')\n",
    "    plt.xlim([0.0, 1.0])\n",
    "    plt.ylim([0.0, 1.05])\n",
    "    plt.xlabel('False Positive Rate')\n",
    "    plt.ylabel('True Positive Rate')\n",
    "    plt.title('Receiver operating characteristic example')\n",
    "    plt.legend(loc=\"lower right\")\n",
    "    plt.show()"
   ]
  },
  {
   "cell_type": "markdown",
   "metadata": {},
   "source": [
    "Class0\n",
    "- \n",
    "\n",
    "Class1\n",
    "- แม้ว่า AUC จะน้อยกว่าคลาสอื่นๆ แต่มี่ TPR สูงมาก หรือก็คือโมเดลจดจำคลาส1 ได้ดีกว่าคลาสอื่นๆ\n",
    "\n",
    "Class2\n",
    "- มี AUC เยอะที่สุด และเข้าใกล้ Ideal มากที่สุด"
   ]
  },
  {
   "cell_type": "code",
   "execution_count": null,
   "metadata": {},
   "outputs": [],
   "source": []
  }
 ],
 "metadata": {
  "colab": {
   "include_colab_link": true,
   "name": "wine-test.ipynb",
   "provenance": [],
   "version": "0.3.2"
  },
  "kernelspec": {
   "display_name": "Python 3",
   "language": "python",
   "name": "python3"
  },
  "language_info": {
   "codemirror_mode": {
    "name": "ipython",
    "version": 3
   },
   "file_extension": ".py",
   "mimetype": "text/x-python",
   "name": "python",
   "nbconvert_exporter": "python",
   "pygments_lexer": "ipython3",
   "version": "3.6.8"
  }
 },
 "nbformat": 4,
 "nbformat_minor": 1
}
