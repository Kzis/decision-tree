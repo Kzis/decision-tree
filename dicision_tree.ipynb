{
  "nbformat": 4,
  "nbformat_minor": 0,
  "metadata": {
    "colab": {
      "name": "wine-test.ipynb",
      "version": "0.3.2",
      "provenance": [],
      "include_colab_link": true
    },
    "kernelspec": {
      "name": "python3",
      "display_name": "Python 3"
    }
  },
  "cells": [
    {
      "cell_type": "markdown",
      "metadata": {
        "id": "view-in-github",
        "colab_type": "text"
      },
      "source": [
        "<a href=\"https://colab.research.google.com/github/Kzis/decision-tree/blob/master/dicision_tree.ipynb\" target=\"_parent\"><img src=\"https://colab.research.google.com/assets/colab-badge.svg\" alt=\"Open In Colab\"/></a>"
      ]
    },
    {
      "metadata": {
        "id": "rcgnEd8ezBDB",
        "colab_type": "code",
        "colab": {}
      },
      "cell_type": "code",
      "source": [
        "import numpy as np\n",
        "import pandas as pd\n",
        "from sklearn.tree import DecisionTreeClassifier, export_graphviz\n",
        "from sklearn import tree\n",
        "from sklearn.datasets import load_wine\n",
        "from sklearn.model_selection import train_test_split\n",
        "from sklearn import metrics\n",
        "from IPython.display import SVG\n",
        "from graphviz import Source\n",
        "from IPython.display import display"
      ],
      "execution_count": 0,
      "outputs": []
    },
    {
      "metadata": {
        "id": "XDyepvVb6vby",
        "colab_type": "code",
        "colab": {
          "base_uri": "https://localhost:8080/",
          "height": 202
        },
        "outputId": "f5036bd9-bac8-4fc4-d0a2-bca5afa4c8d1"
      },
      "cell_type": "code",
      "source": [
        "# load dataset\n",
        "data = load_wine()\n",
        "\n",
        "df = pd.DataFrame(data.data, columns=data.feature_names)\n",
        "df.head()"
      ],
      "execution_count": 10,
      "outputs": [
        {
          "output_type": "execute_result",
          "data": {
            "text/html": [
              "<div>\n",
              "<style scoped>\n",
              "    .dataframe tbody tr th:only-of-type {\n",
              "        vertical-align: middle;\n",
              "    }\n",
              "\n",
              "    .dataframe tbody tr th {\n",
              "        vertical-align: top;\n",
              "    }\n",
              "\n",
              "    .dataframe thead th {\n",
              "        text-align: right;\n",
              "    }\n",
              "</style>\n",
              "<table border=\"1\" class=\"dataframe\">\n",
              "  <thead>\n",
              "    <tr style=\"text-align: right;\">\n",
              "      <th></th>\n",
              "      <th>alcohol</th>\n",
              "      <th>malic_acid</th>\n",
              "      <th>ash</th>\n",
              "      <th>alcalinity_of_ash</th>\n",
              "      <th>magnesium</th>\n",
              "      <th>total_phenols</th>\n",
              "      <th>flavanoids</th>\n",
              "      <th>nonflavanoid_phenols</th>\n",
              "      <th>proanthocyanins</th>\n",
              "      <th>color_intensity</th>\n",
              "      <th>hue</th>\n",
              "      <th>od280/od315_of_diluted_wines</th>\n",
              "      <th>proline</th>\n",
              "    </tr>\n",
              "  </thead>\n",
              "  <tbody>\n",
              "    <tr>\n",
              "      <th>0</th>\n",
              "      <td>14.23</td>\n",
              "      <td>1.71</td>\n",
              "      <td>2.43</td>\n",
              "      <td>15.6</td>\n",
              "      <td>127.0</td>\n",
              "      <td>2.80</td>\n",
              "      <td>3.06</td>\n",
              "      <td>0.28</td>\n",
              "      <td>2.29</td>\n",
              "      <td>5.64</td>\n",
              "      <td>1.04</td>\n",
              "      <td>3.92</td>\n",
              "      <td>1065.0</td>\n",
              "    </tr>\n",
              "    <tr>\n",
              "      <th>1</th>\n",
              "      <td>13.20</td>\n",
              "      <td>1.78</td>\n",
              "      <td>2.14</td>\n",
              "      <td>11.2</td>\n",
              "      <td>100.0</td>\n",
              "      <td>2.65</td>\n",
              "      <td>2.76</td>\n",
              "      <td>0.26</td>\n",
              "      <td>1.28</td>\n",
              "      <td>4.38</td>\n",
              "      <td>1.05</td>\n",
              "      <td>3.40</td>\n",
              "      <td>1050.0</td>\n",
              "    </tr>\n",
              "    <tr>\n",
              "      <th>2</th>\n",
              "      <td>13.16</td>\n",
              "      <td>2.36</td>\n",
              "      <td>2.67</td>\n",
              "      <td>18.6</td>\n",
              "      <td>101.0</td>\n",
              "      <td>2.80</td>\n",
              "      <td>3.24</td>\n",
              "      <td>0.30</td>\n",
              "      <td>2.81</td>\n",
              "      <td>5.68</td>\n",
              "      <td>1.03</td>\n",
              "      <td>3.17</td>\n",
              "      <td>1185.0</td>\n",
              "    </tr>\n",
              "    <tr>\n",
              "      <th>3</th>\n",
              "      <td>14.37</td>\n",
              "      <td>1.95</td>\n",
              "      <td>2.50</td>\n",
              "      <td>16.8</td>\n",
              "      <td>113.0</td>\n",
              "      <td>3.85</td>\n",
              "      <td>3.49</td>\n",
              "      <td>0.24</td>\n",
              "      <td>2.18</td>\n",
              "      <td>7.80</td>\n",
              "      <td>0.86</td>\n",
              "      <td>3.45</td>\n",
              "      <td>1480.0</td>\n",
              "    </tr>\n",
              "    <tr>\n",
              "      <th>4</th>\n",
              "      <td>13.24</td>\n",
              "      <td>2.59</td>\n",
              "      <td>2.87</td>\n",
              "      <td>21.0</td>\n",
              "      <td>118.0</td>\n",
              "      <td>2.80</td>\n",
              "      <td>2.69</td>\n",
              "      <td>0.39</td>\n",
              "      <td>1.82</td>\n",
              "      <td>4.32</td>\n",
              "      <td>1.04</td>\n",
              "      <td>2.93</td>\n",
              "      <td>735.0</td>\n",
              "    </tr>\n",
              "  </tbody>\n",
              "</table>\n",
              "</div>"
            ],
            "text/plain": [
              "   alcohol  malic_acid   ash  alcalinity_of_ash  magnesium  total_phenols  \\\n",
              "0    14.23        1.71  2.43               15.6      127.0           2.80   \n",
              "1    13.20        1.78  2.14               11.2      100.0           2.65   \n",
              "2    13.16        2.36  2.67               18.6      101.0           2.80   \n",
              "3    14.37        1.95  2.50               16.8      113.0           3.85   \n",
              "4    13.24        2.59  2.87               21.0      118.0           2.80   \n",
              "\n",
              "   flavanoids  nonflavanoid_phenols  proanthocyanins  color_intensity   hue  \\\n",
              "0        3.06                  0.28             2.29             5.64  1.04   \n",
              "1        2.76                  0.26             1.28             4.38  1.05   \n",
              "2        3.24                  0.30             2.81             5.68  1.03   \n",
              "3        3.49                  0.24             2.18             7.80  0.86   \n",
              "4        2.69                  0.39             1.82             4.32  1.04   \n",
              "\n",
              "   od280/od315_of_diluted_wines  proline  \n",
              "0                          3.92   1065.0  \n",
              "1                          3.40   1050.0  \n",
              "2                          3.17   1185.0  \n",
              "3                          3.45   1480.0  \n",
              "4                          2.93    735.0  "
            ]
          },
          "metadata": {
            "tags": []
          },
          "execution_count": 10
        }
      ]
    },
    {
      "metadata": {
        "id": "BhJl5AM_zcfG",
        "colab_type": "code",
        "colab": {}
      },
      "cell_type": "code",
      "source": [
        "\n",
        "# feature matrix\n",
        "X = data.data\n",
        "\n",
        "# target vector\n",
        "y = data.target\n",
        "\n",
        "# class labels\n",
        "labels = data.feature_names"
      ],
      "execution_count": 0,
      "outputs": []
    },
    {
      "metadata": {
        "id": "oir5tTuwzgmO",
        "colab_type": "code",
        "colab": {}
      },
      "cell_type": "code",
      "source": [
        "\n",
        "# print dataset description\n",
        "print(data.DESCR)"
      ],
      "execution_count": 0,
      "outputs": []
    },
    {
      "metadata": {
        "id": "zmAR_uR477wA",
        "colab_type": "code",
        "colab": {}
      },
      "cell_type": "code",
      "source": [
        "# Split dataset into training set and test set\n",
        "X_train, X_test, y_train, y_test = train_test_split(X, y, test_size=0.3, random_state=1) # 70% training and 30% test"
      ],
      "execution_count": 0,
      "outputs": []
    },
    {
      "metadata": {
        "id": "tK670oAZ8Nqw",
        "colab_type": "code",
        "colab": {}
      },
      "cell_type": "code",
      "source": [
        "# Create Decision Tree classifer object\n",
        "clf = DecisionTreeClassifier(criterion=\"entropy\", max_depth=None)\n",
        "\n",
        "# Train Decision Tree Classifer\n",
        "clf = clf.fit(X_train,y_train)\n",
        "\n",
        "#Predict the response for test dataset\n",
        "y_pred = clf.predict(X_test)\n",
        "y_score = clf.score(X,y)"
      ],
      "execution_count": 0,
      "outputs": []
    },
    {
      "metadata": {
        "id": "bD4qqG_G8TTA",
        "colab_type": "code",
        "colab": {
          "base_uri": "https://localhost:8080/",
          "height": 294
        },
        "outputId": "25ab41f4-89d7-4024-8233-0e31917bdb6f"
      },
      "cell_type": "code",
      "source": [
        "# https://scikit-learn.org/stable/modules/classes.html#classification-metrics\n",
        "\n",
        "# Model Accuracy, how often is the classifier correct?\n",
        "print(\"Accuracy:\",metrics.accuracy_score(y_test, y_pred))\n",
        "\n",
        "print(\"-\"*5)\n",
        "# https://scikit-learn.org/stable/modules/generated/sklearn.metrics.precision_score.html#sklearn.metrics.precision_score\n",
        "print(\"Precision None:\",metrics.precision_score(y_test, y_pred, average=None)  ) \n",
        "print(\"Precision Macro:\",metrics.precision_score(y_test, y_pred, average='macro')  ) \n",
        "print(\"Precision Micro:\",metrics.precision_score(y_test, y_pred, average='micro')  ) \n",
        "print(\"Precision Weighted:\",metrics.precision_score(y_test, y_pred, average='weighted')  ) \n",
        "\n",
        "\n",
        "print(\"-\"*5)\n",
        "# https://scikit-learn.org/stable/modules/generated/sklearn.metrics.recall_score.html\n",
        "print(\"Recall None:\",metrics.recall_score(y_test, y_pred,average=None)) \n",
        "print(\"Recall Macro:\",metrics.recall_score(y_test, y_pred,average='macro'))\n",
        "print(\"Recall Micro:\",metrics.recall_score(y_test, y_pred,average='micro'))\n",
        "print(\"Recall Weighted:\",metrics.recall_score(y_test, y_pred,average='weighted')) \n",
        "\n",
        "\n",
        "print(\"-\"*5)\n",
        "# https://scikit-learn.org/stable/modules/generated/sklearn.metrics.f1_score.html#sklearn.metrics.f1_score\n",
        "print(\"F1 None:\",metrics.f1_score(y_test, y_pred,average=None)) \n",
        "print(\"F1 Macro:\",metrics.f1_score(y_test, y_pred,average='macro'))\n",
        "print(\"F1 Micro:\",metrics.f1_score(y_test, y_pred,average='micro'))\n",
        "print(\"F1 Weighted:\",metrics.f1_score(y_test, y_pred,average='weighted')) \n",
        "\n",
        "\n"
      ],
      "execution_count": 61,
      "outputs": [
        {
          "output_type": "stream",
          "text": [
            "Accuracy: 0.9629629629629629\n",
            "-----\n",
            "Precision None: [0.95652174 0.94736842 1.        ]\n",
            "Precision Macro: 0.9679633867276888\n",
            "Precision Micro: 0.9629629629629629\n",
            "Precision Weighted: 0.9629629629629629\n",
            "-----\n",
            "Recall None: [0.95652174 0.94736842 1.        ]\n",
            "Recall Macro: 0.9679633867276888\n",
            "Recall Micro: 0.9629629629629629\n",
            "Recall Weighted: 0.9629629629629629\n",
            "-----\n",
            "F1 None: [0.95652174 0.94736842 1.        ]\n",
            "F1 Macro: 0.9679633867276888\n",
            "F1 Micro: 0.9629629629629629\n",
            "F1 Weighted: 0.9629629629629629\n"
          ],
          "name": "stdout"
        }
      ]
    },
    {
      "metadata": {
        "id": "a6UMfjnT84CZ",
        "colab_type": "code",
        "colab": {
          "base_uri": "https://localhost:8080/",
          "height": 757
        },
        "outputId": "52f93c4c-ac79-473d-9a6b-eeea6e3404a0"
      },
      "cell_type": "code",
      "source": [
        "graph = Source(export_graphviz(clf, out_file=None,  \n",
        "                filled=True, rounded=True,\n",
        "                special_characters=True,feature_names = labels,class_names=['0','1','2']))\n",
        "\n",
        "display(SVG(graph.pipe(format='svg')))"
      ],
      "execution_count": 23,
      "outputs": [
        {
          "output_type": "display_data",
          "data": {
            "text/plain": [
              "<IPython.core.display.SVG object>"
            ],
            "image/svg+xml": "<svg height=\"552pt\" viewBox=\"0.00 0.00 851.00 552.00\" width=\"851pt\" xmlns=\"http://www.w3.org/2000/svg\" xmlns:xlink=\"http://www.w3.org/1999/xlink\">\n<g class=\"graph\" id=\"graph0\" transform=\"scale(1 1) rotate(0) translate(4 548)\">\n<title>Tree</title>\n<polygon fill=\"#ffffff\" points=\"-4,4 -4,-548 847,-548 847,4 -4,4\" stroke=\"transparent\"/>\n<!-- 0 -->\n<g class=\"node\" id=\"node1\">\n<title>0</title>\n<path d=\"M371.5,-544C371.5,-544 255.5,-544 255.5,-544 249.5,-544 243.5,-538 243.5,-532 243.5,-532 243.5,-473 243.5,-473 243.5,-467 249.5,-461 255.5,-461 255.5,-461 371.5,-461 371.5,-461 377.5,-461 383.5,-467 383.5,-473 383.5,-473 383.5,-532 383.5,-532 383.5,-538 377.5,-544 371.5,-544\" fill=\"#39e581\" fill-opacity=\"0.180392\" stroke=\"#000000\"/>\n<text fill=\"#000000\" font-family=\"Helvetica,sans-Serif\" font-size=\"14.00\" text-anchor=\"start\" x=\"254.5\" y=\"-528.8\">flavanoids ≤ 1.575</text>\n<text fill=\"#000000\" font-family=\"Helvetica,sans-Serif\" font-size=\"14.00\" text-anchor=\"start\" x=\"262.5\" y=\"-513.8\">entropy = 1.562</text>\n<text fill=\"#000000\" font-family=\"Helvetica,sans-Serif\" font-size=\"14.00\" text-anchor=\"start\" x=\"265.5\" y=\"-498.8\">samples = 124</text>\n<text fill=\"#000000\" font-family=\"Helvetica,sans-Serif\" font-size=\"14.00\" text-anchor=\"start\" x=\"251.5\" y=\"-483.8\">value = [36, 52, 36]</text>\n<text fill=\"#000000\" font-family=\"Helvetica,sans-Serif\" font-size=\"14.00\" text-anchor=\"start\" x=\"284.5\" y=\"-468.8\">class = 1</text>\n</g>\n<!-- 1 -->\n<g class=\"node\" id=\"node2\">\n<title>1</title>\n<path d=\"M298,-425C298,-425 161,-425 161,-425 155,-425 149,-419 149,-413 149,-413 149,-354 149,-354 149,-348 155,-342 161,-342 161,-342 298,-342 298,-342 304,-342 310,-348 310,-354 310,-354 310,-413 310,-413 310,-419 304,-425 298,-425\" fill=\"#8139e5\" fill-opacity=\"0.694118\" stroke=\"#000000\"/>\n<text fill=\"#000000\" font-family=\"Helvetica,sans-Serif\" font-size=\"14.00\" text-anchor=\"start\" x=\"157\" y=\"-409.8\">color_intensity ≤ 3.825</text>\n<text fill=\"#000000\" font-family=\"Helvetica,sans-Serif\" font-size=\"14.00\" text-anchor=\"start\" x=\"178.5\" y=\"-394.8\">entropy = 0.785</text>\n<text fill=\"#000000\" font-family=\"Helvetica,sans-Serif\" font-size=\"14.00\" text-anchor=\"start\" x=\"185.5\" y=\"-379.8\">samples = 47</text>\n<text fill=\"#000000\" font-family=\"Helvetica,sans-Serif\" font-size=\"14.00\" text-anchor=\"start\" x=\"172\" y=\"-364.8\">value = [0, 11, 36]</text>\n<text fill=\"#000000\" font-family=\"Helvetica,sans-Serif\" font-size=\"14.00\" text-anchor=\"start\" x=\"200.5\" y=\"-349.8\">class = 2</text>\n</g>\n<!-- 0&#45;&gt;1 -->\n<g class=\"edge\" id=\"edge1\">\n<title>0-&gt;1</title>\n<path d=\"M284.1209,-460.8796C277.8906,-452.0534 271.2519,-442.6485 264.827,-433.5466\" fill=\"none\" stroke=\"#000000\"/>\n<polygon fill=\"#000000\" points=\"267.6308,-431.4494 259.0045,-425.2981 261.912,-435.4862 267.6308,-431.4494\" stroke=\"#000000\"/>\n<text fill=\"#000000\" font-family=\"Helvetica,sans-Serif\" font-size=\"14.00\" text-anchor=\"middle\" x=\"254.7568\" y=\"-446.2346\">True</text>\n</g>\n<!-- 6 -->\n<g class=\"node\" id=\"node7\">\n<title>6</title>\n<path d=\"M504,-425C504,-425 397,-425 397,-425 391,-425 385,-419 385,-413 385,-413 385,-354 385,-354 385,-348 391,-342 397,-342 397,-342 504,-342 504,-342 510,-342 516,-348 516,-354 516,-354 516,-413 516,-413 516,-419 510,-425 504,-425\" fill=\"#39e581\" fill-opacity=\"0.121569\" stroke=\"#000000\"/>\n<text fill=\"#000000\" font-family=\"Helvetica,sans-Serif\" font-size=\"14.00\" text-anchor=\"start\" x=\"402.5\" y=\"-409.8\">proline ≤ 740.0</text>\n<text fill=\"#000000\" font-family=\"Helvetica,sans-Serif\" font-size=\"14.00\" text-anchor=\"start\" x=\"399.5\" y=\"-394.8\">entropy = 0.997</text>\n<text fill=\"#000000\" font-family=\"Helvetica,sans-Serif\" font-size=\"14.00\" text-anchor=\"start\" x=\"406.5\" y=\"-379.8\">samples = 77</text>\n<text fill=\"#000000\" font-family=\"Helvetica,sans-Serif\" font-size=\"14.00\" text-anchor=\"start\" x=\"393\" y=\"-364.8\">value = [36, 41, 0]</text>\n<text fill=\"#000000\" font-family=\"Helvetica,sans-Serif\" font-size=\"14.00\" text-anchor=\"start\" x=\"421.5\" y=\"-349.8\">class = 1</text>\n</g>\n<!-- 0&#45;&gt;6 -->\n<g class=\"edge\" id=\"edge6\">\n<title>0-&gt;6</title>\n<path d=\"M361.416,-460.8796C372.1993,-451.513 383.7329,-441.4948 394.8039,-431.8784\" fill=\"none\" stroke=\"#000000\"/>\n<polygon fill=\"#000000\" points=\"397.1251,-434.4982 402.3795,-425.2981 392.5347,-429.2134 397.1251,-434.4982\" stroke=\"#000000\"/>\n<text fill=\"#000000\" font-family=\"Helvetica,sans-Serif\" font-size=\"14.00\" text-anchor=\"middle\" x=\"400.626\" y=\"-446.5365\">False</text>\n</g>\n<!-- 2 -->\n<g class=\"node\" id=\"node3\">\n<title>2</title>\n<path d=\"M111,-298.5C111,-298.5 12,-298.5 12,-298.5 6,-298.5 0,-292.5 0,-286.5 0,-286.5 0,-242.5 0,-242.5 0,-236.5 6,-230.5 12,-230.5 12,-230.5 111,-230.5 111,-230.5 117,-230.5 123,-236.5 123,-242.5 123,-242.5 123,-286.5 123,-286.5 123,-292.5 117,-298.5 111,-298.5\" fill=\"#39e581\" stroke=\"#000000\"/>\n<text fill=\"#000000\" font-family=\"Helvetica,sans-Serif\" font-size=\"14.00\" text-anchor=\"start\" x=\"19\" y=\"-283.3\">entropy = 0.0</text>\n<text fill=\"#000000\" font-family=\"Helvetica,sans-Serif\" font-size=\"14.00\" text-anchor=\"start\" x=\"17.5\" y=\"-268.3\">samples = 10</text>\n<text fill=\"#000000\" font-family=\"Helvetica,sans-Serif\" font-size=\"14.00\" text-anchor=\"start\" x=\"8\" y=\"-253.3\">value = [0, 10, 0]</text>\n<text fill=\"#000000\" font-family=\"Helvetica,sans-Serif\" font-size=\"14.00\" text-anchor=\"start\" x=\"32.5\" y=\"-238.3\">class = 1</text>\n</g>\n<!-- 1&#45;&gt;2 -->\n<g class=\"edge\" id=\"edge2\">\n<title>1-&gt;2</title>\n<path d=\"M170.7418,-341.8796C153.5842,-329.7263 134.8777,-316.4759 117.8714,-304.4297\" fill=\"none\" stroke=\"#000000\"/>\n<polygon fill=\"#000000\" points=\"119.857,-301.5472 109.6737,-298.623 115.8109,-307.2593 119.857,-301.5472\" stroke=\"#000000\"/>\n</g>\n<!-- 3 -->\n<g class=\"node\" id=\"node4\">\n<title>3</title>\n<path d=\"M305.5,-306C305.5,-306 153.5,-306 153.5,-306 147.5,-306 141.5,-300 141.5,-294 141.5,-294 141.5,-235 141.5,-235 141.5,-229 147.5,-223 153.5,-223 153.5,-223 305.5,-223 305.5,-223 311.5,-223 317.5,-229 317.5,-235 317.5,-235 317.5,-294 317.5,-294 317.5,-300 311.5,-306 305.5,-306\" fill=\"#8139e5\" fill-opacity=\"0.972549\" stroke=\"#000000\"/>\n<text fill=\"#000000\" font-family=\"Helvetica,sans-Serif\" font-size=\"14.00\" text-anchor=\"start\" x=\"149.5\" y=\"-290.8\">alcalinity_of_ash ≤ 17.15</text>\n<text fill=\"#000000\" font-family=\"Helvetica,sans-Serif\" font-size=\"14.00\" text-anchor=\"start\" x=\"178.5\" y=\"-275.8\">entropy = 0.179</text>\n<text fill=\"#000000\" font-family=\"Helvetica,sans-Serif\" font-size=\"14.00\" text-anchor=\"start\" x=\"185.5\" y=\"-260.8\">samples = 37</text>\n<text fill=\"#000000\" font-family=\"Helvetica,sans-Serif\" font-size=\"14.00\" text-anchor=\"start\" x=\"176\" y=\"-245.8\">value = [0, 1, 36]</text>\n<text fill=\"#000000\" font-family=\"Helvetica,sans-Serif\" font-size=\"14.00\" text-anchor=\"start\" x=\"200.5\" y=\"-230.8\">class = 2</text>\n</g>\n<!-- 1&#45;&gt;3 -->\n<g class=\"edge\" id=\"edge3\">\n<title>1-&gt;3</title>\n<path d=\"M229.5,-341.8796C229.5,-333.6838 229.5,-324.9891 229.5,-316.5013\" fill=\"none\" stroke=\"#000000\"/>\n<polygon fill=\"#000000\" points=\"233.0001,-316.298 229.5,-306.2981 226.0001,-316.2981 233.0001,-316.298\" stroke=\"#000000\"/>\n</g>\n<!-- 4 -->\n<g class=\"node\" id=\"node5\">\n<title>4</title>\n<path d=\"M138,-179.5C138,-179.5 47,-179.5 47,-179.5 41,-179.5 35,-173.5 35,-167.5 35,-167.5 35,-123.5 35,-123.5 35,-117.5 41,-111.5 47,-111.5 47,-111.5 138,-111.5 138,-111.5 144,-111.5 150,-117.5 150,-123.5 150,-123.5 150,-167.5 150,-167.5 150,-173.5 144,-179.5 138,-179.5\" fill=\"#39e581\" stroke=\"#000000\"/>\n<text fill=\"#000000\" font-family=\"Helvetica,sans-Serif\" font-size=\"14.00\" text-anchor=\"start\" x=\"50\" y=\"-164.3\">entropy = 0.0</text>\n<text fill=\"#000000\" font-family=\"Helvetica,sans-Serif\" font-size=\"14.00\" text-anchor=\"start\" x=\"53\" y=\"-149.3\">samples = 1</text>\n<text fill=\"#000000\" font-family=\"Helvetica,sans-Serif\" font-size=\"14.00\" text-anchor=\"start\" x=\"43\" y=\"-134.3\">value = [0, 1, 0]</text>\n<text fill=\"#000000\" font-family=\"Helvetica,sans-Serif\" font-size=\"14.00\" text-anchor=\"start\" x=\"63.5\" y=\"-119.3\">class = 1</text>\n</g>\n<!-- 3&#45;&gt;4 -->\n<g class=\"edge\" id=\"edge4\">\n<title>3-&gt;4</title>\n<path d=\"M181.584,-222.8796C168.0385,-211.1138 153.3092,-198.3197 139.8002,-186.5855\" fill=\"none\" stroke=\"#000000\"/>\n<polygon fill=\"#000000\" points=\"141.8503,-183.7303 132.0054,-179.8149 137.2599,-189.015 141.8503,-183.7303\" stroke=\"#000000\"/>\n</g>\n<!-- 5 -->\n<g class=\"node\" id=\"node6\">\n<title>5</title>\n<path d=\"M279,-179.5C279,-179.5 180,-179.5 180,-179.5 174,-179.5 168,-173.5 168,-167.5 168,-167.5 168,-123.5 168,-123.5 168,-117.5 174,-111.5 180,-111.5 180,-111.5 279,-111.5 279,-111.5 285,-111.5 291,-117.5 291,-123.5 291,-123.5 291,-167.5 291,-167.5 291,-173.5 285,-179.5 279,-179.5\" fill=\"#8139e5\" stroke=\"#000000\"/>\n<text fill=\"#000000\" font-family=\"Helvetica,sans-Serif\" font-size=\"14.00\" text-anchor=\"start\" x=\"187\" y=\"-164.3\">entropy = 0.0</text>\n<text fill=\"#000000\" font-family=\"Helvetica,sans-Serif\" font-size=\"14.00\" text-anchor=\"start\" x=\"185.5\" y=\"-149.3\">samples = 36</text>\n<text fill=\"#000000\" font-family=\"Helvetica,sans-Serif\" font-size=\"14.00\" text-anchor=\"start\" x=\"176\" y=\"-134.3\">value = [0, 0, 36]</text>\n<text fill=\"#000000\" font-family=\"Helvetica,sans-Serif\" font-size=\"14.00\" text-anchor=\"start\" x=\"200.5\" y=\"-119.3\">class = 2</text>\n</g>\n<!-- 3&#45;&gt;5 -->\n<g class=\"edge\" id=\"edge5\">\n<title>3-&gt;5</title>\n<path d=\"M229.5,-222.8796C229.5,-212.2134 229.5,-200.7021 229.5,-189.9015\" fill=\"none\" stroke=\"#000000\"/>\n<polygon fill=\"#000000\" points=\"233.0001,-189.8149 229.5,-179.8149 226.0001,-189.815 233.0001,-189.8149\" stroke=\"#000000\"/>\n</g>\n<!-- 7 -->\n<g class=\"node\" id=\"node8\">\n<title>7</title>\n<path d=\"M500,-306C500,-306 401,-306 401,-306 395,-306 389,-300 389,-294 389,-294 389,-235 389,-235 389,-229 395,-223 401,-223 401,-223 500,-223 500,-223 506,-223 512,-229 512,-235 512,-235 512,-294 512,-294 512,-300 506,-306 500,-306\" fill=\"#39e581\" fill-opacity=\"0.972549\" stroke=\"#000000\"/>\n<text fill=\"#000000\" font-family=\"Helvetica,sans-Serif\" font-size=\"14.00\" text-anchor=\"start\" x=\"402.5\" y=\"-290.8\">proline ≤ 679.0</text>\n<text fill=\"#000000\" font-family=\"Helvetica,sans-Serif\" font-size=\"14.00\" text-anchor=\"start\" x=\"399.5\" y=\"-275.8\">entropy = 0.169</text>\n<text fill=\"#000000\" font-family=\"Helvetica,sans-Serif\" font-size=\"14.00\" text-anchor=\"start\" x=\"406.5\" y=\"-260.8\">samples = 40</text>\n<text fill=\"#000000\" font-family=\"Helvetica,sans-Serif\" font-size=\"14.00\" text-anchor=\"start\" x=\"397\" y=\"-245.8\">value = [1, 39, 0]</text>\n<text fill=\"#000000\" font-family=\"Helvetica,sans-Serif\" font-size=\"14.00\" text-anchor=\"start\" x=\"421.5\" y=\"-230.8\">class = 1</text>\n</g>\n<!-- 6&#45;&gt;7 -->\n<g class=\"edge\" id=\"edge7\">\n<title>6-&gt;7</title>\n<path d=\"M450.5,-341.8796C450.5,-333.6838 450.5,-324.9891 450.5,-316.5013\" fill=\"none\" stroke=\"#000000\"/>\n<polygon fill=\"#000000\" points=\"454.0001,-316.298 450.5,-306.2981 447.0001,-316.2981 454.0001,-316.298\" stroke=\"#000000\"/>\n</g>\n<!-- 12 -->\n<g class=\"node\" id=\"node13\">\n<title>12</title>\n<path d=\"M694,-306C694,-306 595,-306 595,-306 589,-306 583,-300 583,-294 583,-294 583,-235 583,-235 583,-229 589,-223 595,-223 595,-223 694,-223 694,-223 700,-223 706,-229 706,-235 706,-235 706,-294 706,-294 706,-300 700,-306 694,-306\" fill=\"#e58139\" fill-opacity=\"0.941176\" stroke=\"#000000\"/>\n<text fill=\"#000000\" font-family=\"Helvetica,sans-Serif\" font-size=\"14.00\" text-anchor=\"start\" x=\"595\" y=\"-290.8\">alcohol ≤ 12.66</text>\n<text fill=\"#000000\" font-family=\"Helvetica,sans-Serif\" font-size=\"14.00\" text-anchor=\"start\" x=\"593.5\" y=\"-275.8\">entropy = 0.303</text>\n<text fill=\"#000000\" font-family=\"Helvetica,sans-Serif\" font-size=\"14.00\" text-anchor=\"start\" x=\"600.5\" y=\"-260.8\">samples = 37</text>\n<text fill=\"#000000\" font-family=\"Helvetica,sans-Serif\" font-size=\"14.00\" text-anchor=\"start\" x=\"591\" y=\"-245.8\">value = [35, 2, 0]</text>\n<text fill=\"#000000\" font-family=\"Helvetica,sans-Serif\" font-size=\"14.00\" text-anchor=\"start\" x=\"615.5\" y=\"-230.8\">class = 0</text>\n</g>\n<!-- 6&#45;&gt;12 -->\n<g class=\"edge\" id=\"edge12\">\n<title>6-&gt;12</title>\n<path d=\"M516.1796,-343.212C534.8631,-331.7515 555.2834,-319.2257 574.2283,-307.6048\" fill=\"none\" stroke=\"#000000\"/>\n<polygon fill=\"#000000\" points=\"576.1232,-310.5485 582.8173,-302.3363 572.4631,-304.5816 576.1232,-310.5485\" stroke=\"#000000\"/>\n</g>\n<!-- 8 -->\n<g class=\"node\" id=\"node9\">\n<title>8</title>\n<path d=\"M420,-179.5C420,-179.5 321,-179.5 321,-179.5 315,-179.5 309,-173.5 309,-167.5 309,-167.5 309,-123.5 309,-123.5 309,-117.5 315,-111.5 321,-111.5 321,-111.5 420,-111.5 420,-111.5 426,-111.5 432,-117.5 432,-123.5 432,-123.5 432,-167.5 432,-167.5 432,-173.5 426,-179.5 420,-179.5\" fill=\"#39e581\" stroke=\"#000000\"/>\n<text fill=\"#000000\" font-family=\"Helvetica,sans-Serif\" font-size=\"14.00\" text-anchor=\"start\" x=\"328\" y=\"-164.3\">entropy = 0.0</text>\n<text fill=\"#000000\" font-family=\"Helvetica,sans-Serif\" font-size=\"14.00\" text-anchor=\"start\" x=\"326.5\" y=\"-149.3\">samples = 36</text>\n<text fill=\"#000000\" font-family=\"Helvetica,sans-Serif\" font-size=\"14.00\" text-anchor=\"start\" x=\"317\" y=\"-134.3\">value = [0, 36, 0]</text>\n<text fill=\"#000000\" font-family=\"Helvetica,sans-Serif\" font-size=\"14.00\" text-anchor=\"start\" x=\"341.5\" y=\"-119.3\">class = 1</text>\n</g>\n<!-- 7&#45;&gt;8 -->\n<g class=\"edge\" id=\"edge8\">\n<title>7-&gt;8</title>\n<path d=\"M422.5199,-222.8796C414.9797,-211.6636 406.8113,-199.5131 399.2309,-188.2372\" fill=\"none\" stroke=\"#000000\"/>\n<polygon fill=\"#000000\" points=\"402.0527,-186.1612 393.5689,-179.8149 396.2434,-190.0667 402.0527,-186.1612\" stroke=\"#000000\"/>\n</g>\n<!-- 9 -->\n<g class=\"node\" id=\"node10\">\n<title>9</title>\n<path d=\"M556.5,-187C556.5,-187 462.5,-187 462.5,-187 456.5,-187 450.5,-181 450.5,-175 450.5,-175 450.5,-116 450.5,-116 450.5,-110 456.5,-104 462.5,-104 462.5,-104 556.5,-104 556.5,-104 562.5,-104 568.5,-110 568.5,-116 568.5,-116 568.5,-175 568.5,-175 568.5,-181 562.5,-187 556.5,-187\" fill=\"#39e581\" fill-opacity=\"0.666667\" stroke=\"#000000\"/>\n<text fill=\"#000000\" font-family=\"Helvetica,sans-Serif\" font-size=\"14.00\" text-anchor=\"start\" x=\"475\" y=\"-171.8\">hue ≤ 0.89</text>\n<text fill=\"#000000\" font-family=\"Helvetica,sans-Serif\" font-size=\"14.00\" text-anchor=\"start\" x=\"458.5\" y=\"-156.8\">entropy = 0.811</text>\n<text fill=\"#000000\" font-family=\"Helvetica,sans-Serif\" font-size=\"14.00\" text-anchor=\"start\" x=\"470\" y=\"-141.8\">samples = 4</text>\n<text fill=\"#000000\" font-family=\"Helvetica,sans-Serif\" font-size=\"14.00\" text-anchor=\"start\" x=\"460\" y=\"-126.8\">value = [1, 3, 0]</text>\n<text fill=\"#000000\" font-family=\"Helvetica,sans-Serif\" font-size=\"14.00\" text-anchor=\"start\" x=\"480.5\" y=\"-111.8\">class = 1</text>\n</g>\n<!-- 7&#45;&gt;9 -->\n<g class=\"edge\" id=\"edge9\">\n<title>7-&gt;9</title>\n<path d=\"M471.1353,-222.8796C475.3774,-214.3236 479.889,-205.2238 484.2721,-196.3833\" fill=\"none\" stroke=\"#000000\"/>\n<polygon fill=\"#000000\" points=\"487.4703,-197.8121 488.7766,-187.2981 481.1988,-194.7026 487.4703,-197.8121\" stroke=\"#000000\"/>\n</g>\n<!-- 10 -->\n<g class=\"node\" id=\"node11\">\n<title>10</title>\n<path d=\"M489,-68C489,-68 398,-68 398,-68 392,-68 386,-62 386,-56 386,-56 386,-12 386,-12 386,-6 392,0 398,0 398,0 489,0 489,0 495,0 501,-6 501,-12 501,-12 501,-56 501,-56 501,-62 495,-68 489,-68\" fill=\"#e58139\" stroke=\"#000000\"/>\n<text fill=\"#000000\" font-family=\"Helvetica,sans-Serif\" font-size=\"14.00\" text-anchor=\"start\" x=\"401\" y=\"-52.8\">entropy = 0.0</text>\n<text fill=\"#000000\" font-family=\"Helvetica,sans-Serif\" font-size=\"14.00\" text-anchor=\"start\" x=\"404\" y=\"-37.8\">samples = 1</text>\n<text fill=\"#000000\" font-family=\"Helvetica,sans-Serif\" font-size=\"14.00\" text-anchor=\"start\" x=\"394\" y=\"-22.8\">value = [1, 0, 0]</text>\n<text fill=\"#000000\" font-family=\"Helvetica,sans-Serif\" font-size=\"14.00\" text-anchor=\"start\" x=\"414.5\" y=\"-7.8\">class = 0</text>\n</g>\n<!-- 9&#45;&gt;10 -->\n<g class=\"edge\" id=\"edge10\">\n<title>9-&gt;10</title>\n<path d=\"M484.924,-103.9815C479.7014,-95.1585 474.1771,-85.8258 468.9237,-76.9506\" fill=\"none\" stroke=\"#000000\"/>\n<polygon fill=\"#000000\" points=\"471.8874,-75.0863 463.7816,-68.2637 465.8636,-78.652 471.8874,-75.0863\" stroke=\"#000000\"/>\n</g>\n<!-- 11 -->\n<g class=\"node\" id=\"node12\">\n<title>11</title>\n<path d=\"M622,-68C622,-68 531,-68 531,-68 525,-68 519,-62 519,-56 519,-56 519,-12 519,-12 519,-6 525,0 531,0 531,0 622,0 622,0 628,0 634,-6 634,-12 634,-12 634,-56 634,-56 634,-62 628,-68 622,-68\" fill=\"#39e581\" stroke=\"#000000\"/>\n<text fill=\"#000000\" font-family=\"Helvetica,sans-Serif\" font-size=\"14.00\" text-anchor=\"start\" x=\"534\" y=\"-52.8\">entropy = 0.0</text>\n<text fill=\"#000000\" font-family=\"Helvetica,sans-Serif\" font-size=\"14.00\" text-anchor=\"start\" x=\"537\" y=\"-37.8\">samples = 3</text>\n<text fill=\"#000000\" font-family=\"Helvetica,sans-Serif\" font-size=\"14.00\" text-anchor=\"start\" x=\"527\" y=\"-22.8\">value = [0, 3, 0]</text>\n<text fill=\"#000000\" font-family=\"Helvetica,sans-Serif\" font-size=\"14.00\" text-anchor=\"start\" x=\"547.5\" y=\"-7.8\">class = 1</text>\n</g>\n<!-- 9&#45;&gt;11 -->\n<g class=\"edge\" id=\"edge11\">\n<title>9-&gt;11</title>\n<path d=\"M534.4483,-103.9815C539.7501,-95.1585 545.3581,-85.8258 550.6911,-76.9506\" fill=\"none\" stroke=\"#000000\"/>\n<polygon fill=\"#000000\" points=\"553.7605,-78.638 555.9111,-68.2637 547.7604,-75.0325 553.7605,-78.638\" stroke=\"#000000\"/>\n</g>\n<!-- 13 -->\n<g class=\"node\" id=\"node14\">\n<title>13</title>\n<path d=\"M690,-179.5C690,-179.5 599,-179.5 599,-179.5 593,-179.5 587,-173.5 587,-167.5 587,-167.5 587,-123.5 587,-123.5 587,-117.5 593,-111.5 599,-111.5 599,-111.5 690,-111.5 690,-111.5 696,-111.5 702,-117.5 702,-123.5 702,-123.5 702,-167.5 702,-167.5 702,-173.5 696,-179.5 690,-179.5\" fill=\"#39e581\" stroke=\"#000000\"/>\n<text fill=\"#000000\" font-family=\"Helvetica,sans-Serif\" font-size=\"14.00\" text-anchor=\"start\" x=\"602\" y=\"-164.3\">entropy = 0.0</text>\n<text fill=\"#000000\" font-family=\"Helvetica,sans-Serif\" font-size=\"14.00\" text-anchor=\"start\" x=\"605\" y=\"-149.3\">samples = 2</text>\n<text fill=\"#000000\" font-family=\"Helvetica,sans-Serif\" font-size=\"14.00\" text-anchor=\"start\" x=\"595\" y=\"-134.3\">value = [0, 2, 0]</text>\n<text fill=\"#000000\" font-family=\"Helvetica,sans-Serif\" font-size=\"14.00\" text-anchor=\"start\" x=\"615.5\" y=\"-119.3\">class = 1</text>\n</g>\n<!-- 12&#45;&gt;13 -->\n<g class=\"edge\" id=\"edge13\">\n<title>12-&gt;13</title>\n<path d=\"M644.5,-222.8796C644.5,-212.2134 644.5,-200.7021 644.5,-189.9015\" fill=\"none\" stroke=\"#000000\"/>\n<polygon fill=\"#000000\" points=\"648.0001,-189.8149 644.5,-179.8149 641.0001,-189.815 648.0001,-189.8149\" stroke=\"#000000\"/>\n</g>\n<!-- 14 -->\n<g class=\"node\" id=\"node15\">\n<title>14</title>\n<path d=\"M831,-179.5C831,-179.5 732,-179.5 732,-179.5 726,-179.5 720,-173.5 720,-167.5 720,-167.5 720,-123.5 720,-123.5 720,-117.5 726,-111.5 732,-111.5 732,-111.5 831,-111.5 831,-111.5 837,-111.5 843,-117.5 843,-123.5 843,-123.5 843,-167.5 843,-167.5 843,-173.5 837,-179.5 831,-179.5\" fill=\"#e58139\" stroke=\"#000000\"/>\n<text fill=\"#000000\" font-family=\"Helvetica,sans-Serif\" font-size=\"14.00\" text-anchor=\"start\" x=\"739\" y=\"-164.3\">entropy = 0.0</text>\n<text fill=\"#000000\" font-family=\"Helvetica,sans-Serif\" font-size=\"14.00\" text-anchor=\"start\" x=\"737.5\" y=\"-149.3\">samples = 35</text>\n<text fill=\"#000000\" font-family=\"Helvetica,sans-Serif\" font-size=\"14.00\" text-anchor=\"start\" x=\"728\" y=\"-134.3\">value = [35, 0, 0]</text>\n<text fill=\"#000000\" font-family=\"Helvetica,sans-Serif\" font-size=\"14.00\" text-anchor=\"start\" x=\"752.5\" y=\"-119.3\">class = 0</text>\n</g>\n<!-- 12&#45;&gt;14 -->\n<g class=\"edge\" id=\"edge14\">\n<title>12-&gt;14</title>\n<path d=\"M692.416,-222.8796C705.9615,-211.1138 720.6908,-198.3197 734.1998,-186.5855\" fill=\"none\" stroke=\"#000000\"/>\n<polygon fill=\"#000000\" points=\"736.7401,-189.015 741.9946,-179.8149 732.1497,-183.7303 736.7401,-189.015\" stroke=\"#000000\"/>\n</g>\n</g>\n</svg>"
          },
          "metadata": {
            "tags": []
          }
        }
      ]
    }
  ]
}