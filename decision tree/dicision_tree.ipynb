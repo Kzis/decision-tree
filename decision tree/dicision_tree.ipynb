{
  "nbformat": 4,
  "nbformat_minor": 0,
  "metadata": {
    "colab": {
      "name": "wine-test.ipynb",
      "version": "0.3.2",
      "provenance": [],
      "include_colab_link": true
    },
    "language_info": {
      "codemirror_mode": {
        "name": "ipython",
        "version": 3
      },
      "file_extension": ".py",
      "mimetype": "text/x-python",
      "name": "python",
      "nbconvert_exporter": "python",
      "pygments_lexer": "ipython3",
      "version": "3.7.0"
    },
    "kernelspec": {
      "display_name": "Python 3",
      "language": "python",
      "name": "python3"
    }
  },
  "cells": [
    {
      "cell_type": "markdown",
      "metadata": {
        "id": "view-in-github",
        "colab_type": "text"
      },
      "source": [
        "<a href=\"https://colab.research.google.com/github/Kzis/ml-project/blob/master/decision%20tree/dicision_tree.ipynb\" target=\"_parent\"><img src=\"https://colab.research.google.com/assets/colab-badge.svg\" alt=\"Open In Colab\"/></a>"
      ]
    },
    {
      "cell_type": "code",
      "metadata": {
        "colab_type": "code",
        "id": "rcgnEd8ezBDB",
        "colab": {}
      },
      "source": [
        "import numpy as np\n",
        "import pandas as pd\n",
        "from sklearn.tree import DecisionTreeClassifier, export_graphviz\n",
        "from sklearn import tree\n",
        "from sklearn.datasets import load_wine\n",
        "from sklearn.model_selection import train_test_split\n",
        "from sklearn import metrics\n",
        "from IPython.display import SVG\n",
        "from graphviz import Source\n",
        "from IPython.display import display"
      ],
      "execution_count": 0,
      "outputs": []
    },
    {
      "cell_type": "code",
      "metadata": {
        "colab_type": "code",
        "id": "XDyepvVb6vby",
        "outputId": "b492a11a-ea00-41f3-f083-c2188d4717d0",
        "colab": {
          "base_uri": "https://localhost:8080/",
          "height": 217
        }
      },
      "source": [
        "# load dataset\n",
        "data = load_wine()\n",
        "\n",
        "df = pd.DataFrame(data.data, columns=data.feature_names)\n",
        "df.head()"
      ],
      "execution_count": 3,
      "outputs": [
        {
          "output_type": "execute_result",
          "data": {
            "text/html": [
              "<div>\n",
              "<style scoped>\n",
              "    .dataframe tbody tr th:only-of-type {\n",
              "        vertical-align: middle;\n",
              "    }\n",
              "\n",
              "    .dataframe tbody tr th {\n",
              "        vertical-align: top;\n",
              "    }\n",
              "\n",
              "    .dataframe thead th {\n",
              "        text-align: right;\n",
              "    }\n",
              "</style>\n",
              "<table border=\"1\" class=\"dataframe\">\n",
              "  <thead>\n",
              "    <tr style=\"text-align: right;\">\n",
              "      <th></th>\n",
              "      <th>alcohol</th>\n",
              "      <th>malic_acid</th>\n",
              "      <th>ash</th>\n",
              "      <th>alcalinity_of_ash</th>\n",
              "      <th>magnesium</th>\n",
              "      <th>total_phenols</th>\n",
              "      <th>flavanoids</th>\n",
              "      <th>nonflavanoid_phenols</th>\n",
              "      <th>proanthocyanins</th>\n",
              "      <th>color_intensity</th>\n",
              "      <th>hue</th>\n",
              "      <th>od280/od315_of_diluted_wines</th>\n",
              "      <th>proline</th>\n",
              "    </tr>\n",
              "  </thead>\n",
              "  <tbody>\n",
              "    <tr>\n",
              "      <th>0</th>\n",
              "      <td>14.23</td>\n",
              "      <td>1.71</td>\n",
              "      <td>2.43</td>\n",
              "      <td>15.6</td>\n",
              "      <td>127.0</td>\n",
              "      <td>2.80</td>\n",
              "      <td>3.06</td>\n",
              "      <td>0.28</td>\n",
              "      <td>2.29</td>\n",
              "      <td>5.64</td>\n",
              "      <td>1.04</td>\n",
              "      <td>3.92</td>\n",
              "      <td>1065.0</td>\n",
              "    </tr>\n",
              "    <tr>\n",
              "      <th>1</th>\n",
              "      <td>13.20</td>\n",
              "      <td>1.78</td>\n",
              "      <td>2.14</td>\n",
              "      <td>11.2</td>\n",
              "      <td>100.0</td>\n",
              "      <td>2.65</td>\n",
              "      <td>2.76</td>\n",
              "      <td>0.26</td>\n",
              "      <td>1.28</td>\n",
              "      <td>4.38</td>\n",
              "      <td>1.05</td>\n",
              "      <td>3.40</td>\n",
              "      <td>1050.0</td>\n",
              "    </tr>\n",
              "    <tr>\n",
              "      <th>2</th>\n",
              "      <td>13.16</td>\n",
              "      <td>2.36</td>\n",
              "      <td>2.67</td>\n",
              "      <td>18.6</td>\n",
              "      <td>101.0</td>\n",
              "      <td>2.80</td>\n",
              "      <td>3.24</td>\n",
              "      <td>0.30</td>\n",
              "      <td>2.81</td>\n",
              "      <td>5.68</td>\n",
              "      <td>1.03</td>\n",
              "      <td>3.17</td>\n",
              "      <td>1185.0</td>\n",
              "    </tr>\n",
              "    <tr>\n",
              "      <th>3</th>\n",
              "      <td>14.37</td>\n",
              "      <td>1.95</td>\n",
              "      <td>2.50</td>\n",
              "      <td>16.8</td>\n",
              "      <td>113.0</td>\n",
              "      <td>3.85</td>\n",
              "      <td>3.49</td>\n",
              "      <td>0.24</td>\n",
              "      <td>2.18</td>\n",
              "      <td>7.80</td>\n",
              "      <td>0.86</td>\n",
              "      <td>3.45</td>\n",
              "      <td>1480.0</td>\n",
              "    </tr>\n",
              "    <tr>\n",
              "      <th>4</th>\n",
              "      <td>13.24</td>\n",
              "      <td>2.59</td>\n",
              "      <td>2.87</td>\n",
              "      <td>21.0</td>\n",
              "      <td>118.0</td>\n",
              "      <td>2.80</td>\n",
              "      <td>2.69</td>\n",
              "      <td>0.39</td>\n",
              "      <td>1.82</td>\n",
              "      <td>4.32</td>\n",
              "      <td>1.04</td>\n",
              "      <td>2.93</td>\n",
              "      <td>735.0</td>\n",
              "    </tr>\n",
              "  </tbody>\n",
              "</table>\n",
              "</div>"
            ],
            "text/plain": [
              "   alcohol  malic_acid   ash  ...   hue  od280/od315_of_diluted_wines  proline\n",
              "0    14.23        1.71  2.43  ...  1.04                          3.92   1065.0\n",
              "1    13.20        1.78  2.14  ...  1.05                          3.40   1050.0\n",
              "2    13.16        2.36  2.67  ...  1.03                          3.17   1185.0\n",
              "3    14.37        1.95  2.50  ...  0.86                          3.45   1480.0\n",
              "4    13.24        2.59  2.87  ...  1.04                          2.93    735.0\n",
              "\n",
              "[5 rows x 13 columns]"
            ]
          },
          "metadata": {
            "tags": []
          },
          "execution_count": 3
        }
      ]
    },
    {
      "cell_type": "code",
      "metadata": {
        "colab_type": "code",
        "id": "BhJl5AM_zcfG",
        "colab": {}
      },
      "source": [
        "# feature matrix\n",
        "X = data.data\n",
        "\n",
        "# target vector\n",
        "y = data.target\n",
        "\n",
        "# class labels\n",
        "labels = data.feature_names"
      ],
      "execution_count": 0,
      "outputs": []
    },
    {
      "cell_type": "code",
      "metadata": {
        "colab_type": "code",
        "id": "oir5tTuwzgmO",
        "colab": {}
      },
      "source": [
        "# print dataset description\n",
        "print(data.DESCR)"
      ],
      "execution_count": 0,
      "outputs": []
    },
    {
      "cell_type": "code",
      "metadata": {
        "colab_type": "code",
        "id": "zmAR_uR477wA",
        "colab": {}
      },
      "source": [
        "# Split dataset into training set and test set\n",
        "X_train, X_test, y_train, y_test = train_test_split(X, y, test_size=0.3, random_state=1) # 70% training and 30% test"
      ],
      "execution_count": 0,
      "outputs": []
    },
    {
      "cell_type": "code",
      "metadata": {
        "colab_type": "code",
        "id": "tK670oAZ8Nqw",
        "colab": {}
      },
      "source": [
        "# Create Decision Tree classifer object\n",
        "clf = DecisionTreeClassifier(criterion=\"entropy\", max_depth=None)\n",
        "\n",
        "# Train Decision Tree Classifer\n",
        "clf = clf.fit(X_train,y_train)\n",
        "\n",
        "#Predict the response for test dataset\n",
        "y_pred = clf.predict(X_test)\n",
        "y_score = clf.score(X,y)"
      ],
      "execution_count": 0,
      "outputs": []
    },
    {
      "cell_type": "code",
      "metadata": {
        "colab_type": "code",
        "id": "bD4qqG_G8TTA",
        "outputId": "25ab41f4-89d7-4024-8233-0e31917bdb6f",
        "colab": {
          "base_uri": "https://localhost:8080/",
          "height": 294
        }
      },
      "source": [
        "# https://scikit-learn.org/stable/modules/classes.html#classification-metrics\n",
        "\n",
        "# Model Accuracy, how often is the classifier correct?\n",
        "print(\"Accuracy:\",metrics.accuracy_score(y_test, y_pred))\n",
        "\n",
        "print(\"-\"*5)\n",
        "# https://scikit-learn.org/stable/modules/generated/sklearn.metrics.precision_score.html#sklearn.metrics.precision_score\n",
        "print(\"Precision None:\",metrics.precision_score(y_test, y_pred, average=None)  ) \n",
        "print(\"Precision Macro:\",metrics.precision_score(y_test, y_pred, average='macro')  ) \n",
        "print(\"Precision Micro:\",metrics.precision_score(y_test, y_pred, average='micro')  ) \n",
        "print(\"Precision Weighted:\",metrics.precision_score(y_test, y_pred, average='weighted')  ) \n",
        "\n",
        "\n",
        "print(\"-\"*5)\n",
        "# https://scikit-learn.org/stable/modules/generated/sklearn.metrics.recall_score.html\n",
        "print(\"Recall None:\",metrics.recall_score(y_test, y_pred,average=None)) \n",
        "print(\"Recall Macro:\",metrics.recall_score(y_test, y_pred,average='macro'))\n",
        "print(\"Recall Micro:\",metrics.recall_score(y_test, y_pred,average='micro'))\n",
        "print(\"Recall Weighted:\",metrics.recall_score(y_test, y_pred,average='weighted')) \n",
        "\n",
        "\n",
        "print(\"-\"*5)\n",
        "# https://scikit-learn.org/stable/modules/generated/sklearn.metrics.f1_score.html#sklearn.metrics.f1_score\n",
        "print(\"F1 None:\",metrics.f1_score(y_test, y_pred,average=None)) \n",
        "print(\"F1 Macro:\",metrics.f1_score(y_test, y_pred,average='macro'))\n",
        "print(\"F1 Micro:\",metrics.f1_score(y_test, y_pred,average='micro'))\n",
        "print(\"F1 Weighted:\",metrics.f1_score(y_test, y_pred,average='weighted')) \n",
        "\n",
        "\n"
      ],
      "execution_count": 0,
      "outputs": [
        {
          "output_type": "stream",
          "text": [
            "Accuracy: 0.9629629629629629\n",
            "-----\n",
            "Precision None: [0.95652174 0.94736842 1.        ]\n",
            "Precision Macro: 0.9679633867276888\n",
            "Precision Micro: 0.9629629629629629\n",
            "Precision Weighted: 0.9629629629629629\n",
            "-----\n",
            "Recall None: [0.95652174 0.94736842 1.        ]\n",
            "Recall Macro: 0.9679633867276888\n",
            "Recall Micro: 0.9629629629629629\n",
            "Recall Weighted: 0.9629629629629629\n",
            "-----\n",
            "F1 None: [0.95652174 0.94736842 1.        ]\n",
            "F1 Macro: 0.9679633867276888\n",
            "F1 Micro: 0.9629629629629629\n",
            "F1 Weighted: 0.9629629629629629\n"
          ],
          "name": "stdout"
        }
      ]
    },
    {
      "cell_type": "code",
      "metadata": {
        "id": "6yqB3BHfR4PH",
        "colab_type": "code",
        "colab": {
          "base_uri": "https://localhost:8080/",
          "height": 66
        },
        "outputId": "f8c08b68-fb7d-413e-d69c-e0e15b7af0f9"
      },
      "source": [
        "from sklearn.metrics import classification_report,confusion_matrix\n",
        "\n",
        "print(confusion_matrix(y_test,y_pred))"
      ],
      "execution_count": 9,
      "outputs": [
        {
          "output_type": "stream",
          "text": [
            "[[22  1  0]\n",
            " [ 1 18  0]\n",
            " [ 0  0 12]]\n"
          ],
          "name": "stdout"
        }
      ]
    },
    {
      "cell_type": "code",
      "metadata": {
        "id": "0kxYtk8OSK-2",
        "colab_type": "code",
        "colab": {
          "base_uri": "https://localhost:8080/",
          "height": 183
        },
        "outputId": "5835d458-9df6-4f43-b39c-c3548670e44b"
      },
      "source": [
        "print(classification_report(y_test,y_pred))"
      ],
      "execution_count": 10,
      "outputs": [
        {
          "output_type": "stream",
          "text": [
            "              precision    recall  f1-score   support\n",
            "\n",
            "           0       0.96      0.96      0.96        23\n",
            "           1       0.95      0.95      0.95        19\n",
            "           2       1.00      1.00      1.00        12\n",
            "\n",
            "    accuracy                           0.96        54\n",
            "   macro avg       0.97      0.97      0.97        54\n",
            "weighted avg       0.96      0.96      0.96        54\n",
            "\n"
          ],
          "name": "stdout"
        }
      ]
    },
    {
      "cell_type": "code",
      "metadata": {
        "colab_type": "code",
        "id": "a6UMfjnT84CZ",
        "outputId": "d01d58c3-d728-4be6-98d4-f77cb78e8b56",
        "colab": {
          "base_uri": "https://localhost:8080/",
          "height": 756
        }
      },
      "source": [
        "graph = Source(export_graphviz(clf, out_file=None,  \n",
        "                filled=True, rounded=True,\n",
        "                special_characters=True,feature_names = labels,class_names=['0','1','2']))\n",
        "\n",
        "display(SVG(graph.pipe(format='svg')))"
      ],
      "execution_count": 0,
      "outputs": [
        {
          "output_type": "display_data",
          "data": {
            "image/svg+xml": "<svg height=\"552pt\" viewBox=\"0.00 0.00 838.00 552.00\" width=\"838pt\" xmlns=\"http://www.w3.org/2000/svg\" xmlns:xlink=\"http://www.w3.org/1999/xlink\">\n<g class=\"graph\" id=\"graph0\" transform=\"scale(1 1) rotate(0) translate(4 548)\">\n<title>Tree</title>\n<polygon fill=\"white\" points=\"-4,4 -4,-548 834,-548 834,4 -4,4\" stroke=\"none\"/>\n<!-- 0 -->\n<g class=\"node\" id=\"node1\"><title>0</title>\n<path d=\"M390,-544C390,-544 277,-544 277,-544 271,-544 265,-538 265,-532 265,-532 265,-473 265,-473 265,-467 271,-461 277,-461 277,-461 390,-461 390,-461 396,-461 402,-467 402,-473 402,-473 402,-532 402,-532 402,-538 396,-544 390,-544\" fill=\"#39e581\" fill-opacity=\"0.180392\" stroke=\"black\"/>\n<text font-family=\"Helvetica,sans-Serif\" font-size=\"14.00\" text-anchor=\"start\" x=\"275.5\" y=\"-528.8\">flavanoids ≤ 1.575</text>\n<text font-family=\"Helvetica,sans-Serif\" font-size=\"14.00\" text-anchor=\"start\" x=\"283.5\" y=\"-513.8\">entropy = 1.562</text>\n<text font-family=\"Helvetica,sans-Serif\" font-size=\"14.00\" text-anchor=\"start\" x=\"286\" y=\"-498.8\">samples = 124</text>\n<text font-family=\"Helvetica,sans-Serif\" font-size=\"14.00\" text-anchor=\"start\" x=\"273\" y=\"-483.8\">value = [36, 52, 36]</text>\n<text font-family=\"Helvetica,sans-Serif\" font-size=\"14.00\" text-anchor=\"start\" x=\"304.5\" y=\"-468.8\">class = 1</text>\n</g>\n<!-- 1 -->\n<g class=\"node\" id=\"node2\"><title>1</title>\n<path d=\"M293,-425C293,-425 158,-425 158,-425 152,-425 146,-419 146,-413 146,-413 146,-354 146,-354 146,-348 152,-342 158,-342 158,-342 293,-342 293,-342 299,-342 305,-348 305,-354 305,-354 305,-413 305,-413 305,-419 299,-425 293,-425\" fill=\"#8139e5\" fill-opacity=\"0.694118\" stroke=\"black\"/>\n<text font-family=\"Helvetica,sans-Serif\" font-size=\"14.00\" text-anchor=\"start\" x=\"154\" y=\"-409.8\">color_intensity ≤ 3.825</text>\n<text font-family=\"Helvetica,sans-Serif\" font-size=\"14.00\" text-anchor=\"start\" x=\"175.5\" y=\"-394.8\">entropy = 0.785</text>\n<text font-family=\"Helvetica,sans-Serif\" font-size=\"14.00\" text-anchor=\"start\" x=\"182\" y=\"-379.8\">samples = 47</text>\n<text font-family=\"Helvetica,sans-Serif\" font-size=\"14.00\" text-anchor=\"start\" x=\"169\" y=\"-364.8\">value = [0, 11, 36]</text>\n<text font-family=\"Helvetica,sans-Serif\" font-size=\"14.00\" text-anchor=\"start\" x=\"196.5\" y=\"-349.8\">class = 2</text>\n</g>\n<!-- 0&#45;&gt;1 -->\n<g class=\"edge\" id=\"edge1\"><title>0-&gt;1</title>\n<path d=\"M296.03,-460.907C287.569,-451.742 278.509,-441.927 269.798,-432.489\" fill=\"none\" stroke=\"black\"/>\n<polygon fill=\"black\" points=\"272.258,-429.995 262.904,-425.021 267.115,-434.743 272.258,-429.995\" stroke=\"black\"/>\n<text font-family=\"Helvetica,sans-Serif\" font-size=\"14.00\" text-anchor=\"middle\" x=\"261.905\" y=\"-446.301\">True</text>\n</g>\n<!-- 6 -->\n<g class=\"node\" id=\"node7\"><title>6</title>\n<path d=\"M495,-425C495,-425 390,-425 390,-425 384,-425 378,-419 378,-413 378,-413 378,-354 378,-354 378,-348 384,-342 390,-342 390,-342 495,-342 495,-342 501,-342 507,-348 507,-354 507,-354 507,-413 507,-413 507,-419 501,-425 495,-425\" fill=\"#39e581\" fill-opacity=\"0.121569\" stroke=\"black\"/>\n<text font-family=\"Helvetica,sans-Serif\" font-size=\"14.00\" text-anchor=\"start\" x=\"395\" y=\"-409.8\">proline ≤ 740.0</text>\n<text font-family=\"Helvetica,sans-Serif\" font-size=\"14.00\" text-anchor=\"start\" x=\"392.5\" y=\"-394.8\">entropy = 0.997</text>\n<text font-family=\"Helvetica,sans-Serif\" font-size=\"14.00\" text-anchor=\"start\" x=\"399\" y=\"-379.8\">samples = 77</text>\n<text font-family=\"Helvetica,sans-Serif\" font-size=\"14.00\" text-anchor=\"start\" x=\"386\" y=\"-364.8\">value = [36, 41, 0]</text>\n<text font-family=\"Helvetica,sans-Serif\" font-size=\"14.00\" text-anchor=\"start\" x=\"413.5\" y=\"-349.8\">class = 1</text>\n</g>\n<!-- 0&#45;&gt;6 -->\n<g class=\"edge\" id=\"edge6\"><title>0-&gt;6</title>\n<path d=\"M371.317,-460.907C379.856,-451.742 389,-441.927 397.792,-432.489\" fill=\"none\" stroke=\"black\"/>\n<polygon fill=\"black\" points=\"400.494,-434.723 404.75,-425.021 395.372,-429.952 400.494,-434.723\" stroke=\"black\"/>\n<text font-family=\"Helvetica,sans-Serif\" font-size=\"14.00\" text-anchor=\"middle\" x=\"405.634\" y=\"-446.305\">False</text>\n</g>\n<!-- 2 -->\n<g class=\"node\" id=\"node3\"><title>2</title>\n<path d=\"M109,-298.5C109,-298.5 12,-298.5 12,-298.5 6,-298.5 0,-292.5 0,-286.5 0,-286.5 0,-242.5 0,-242.5 0,-236.5 6,-230.5 12,-230.5 12,-230.5 109,-230.5 109,-230.5 115,-230.5 121,-236.5 121,-242.5 121,-242.5 121,-286.5 121,-286.5 121,-292.5 115,-298.5 109,-298.5\" fill=\"#39e581\" stroke=\"black\"/>\n<text font-family=\"Helvetica,sans-Serif\" font-size=\"14.00\" text-anchor=\"start\" x=\"18.5\" y=\"-283.3\">entropy = 0.0</text>\n<text font-family=\"Helvetica,sans-Serif\" font-size=\"14.00\" text-anchor=\"start\" x=\"17\" y=\"-268.3\">samples = 10</text>\n<text font-family=\"Helvetica,sans-Serif\" font-size=\"14.00\" text-anchor=\"start\" x=\"8\" y=\"-253.3\">value = [0, 10, 0]</text>\n<text font-family=\"Helvetica,sans-Serif\" font-size=\"14.00\" text-anchor=\"start\" x=\"31.5\" y=\"-238.3\">class = 1</text>\n</g>\n<!-- 1&#45;&gt;2 -->\n<g class=\"edge\" id=\"edge2\"><title>1-&gt;2</title>\n<path d=\"M168.254,-341.907C151.136,-329.769 132.414,-316.493 115.447,-304.462\" fill=\"none\" stroke=\"black\"/>\n<polygon fill=\"black\" points=\"117.456,-301.596 107.274,-298.667 113.407,-307.306 117.456,-301.596\" stroke=\"black\"/>\n</g>\n<!-- 3 -->\n<g class=\"node\" id=\"node4\"><title>3</title>\n<path d=\"M300,-306C300,-306 151,-306 151,-306 145,-306 139,-300 139,-294 139,-294 139,-235 139,-235 139,-229 145,-223 151,-223 151,-223 300,-223 300,-223 306,-223 312,-229 312,-235 312,-235 312,-294 312,-294 312,-300 306,-306 300,-306\" fill=\"#8139e5\" fill-opacity=\"0.972549\" stroke=\"black\"/>\n<text font-family=\"Helvetica,sans-Serif\" font-size=\"14.00\" text-anchor=\"start\" x=\"147\" y=\"-290.8\">alcalinity_of_ash ≤ 17.15</text>\n<text font-family=\"Helvetica,sans-Serif\" font-size=\"14.00\" text-anchor=\"start\" x=\"175.5\" y=\"-275.8\">entropy = 0.179</text>\n<text font-family=\"Helvetica,sans-Serif\" font-size=\"14.00\" text-anchor=\"start\" x=\"182\" y=\"-260.8\">samples = 37</text>\n<text font-family=\"Helvetica,sans-Serif\" font-size=\"14.00\" text-anchor=\"start\" x=\"173\" y=\"-245.8\">value = [0, 1, 36]</text>\n<text font-family=\"Helvetica,sans-Serif\" font-size=\"14.00\" text-anchor=\"start\" x=\"196.5\" y=\"-230.8\">class = 2</text>\n</g>\n<!-- 1&#45;&gt;3 -->\n<g class=\"edge\" id=\"edge3\"><title>1-&gt;3</title>\n<path d=\"M225.5,-341.907C225.5,-333.649 225.5,-324.864 225.5,-316.302\" fill=\"none\" stroke=\"black\"/>\n<polygon fill=\"black\" points=\"229,-316.021 225.5,-306.021 222,-316.021 229,-316.021\" stroke=\"black\"/>\n</g>\n<!-- 4 -->\n<g class=\"node\" id=\"node5\"><title>4</title>\n<path d=\"M135,-179.5C135,-179.5 46,-179.5 46,-179.5 40,-179.5 34,-173.5 34,-167.5 34,-167.5 34,-123.5 34,-123.5 34,-117.5 40,-111.5 46,-111.5 46,-111.5 135,-111.5 135,-111.5 141,-111.5 147,-117.5 147,-123.5 147,-123.5 147,-167.5 147,-167.5 147,-173.5 141,-179.5 135,-179.5\" fill=\"#39e581\" stroke=\"black\"/>\n<text font-family=\"Helvetica,sans-Serif\" font-size=\"14.00\" text-anchor=\"start\" x=\"48.5\" y=\"-164.3\">entropy = 0.0</text>\n<text font-family=\"Helvetica,sans-Serif\" font-size=\"14.00\" text-anchor=\"start\" x=\"51\" y=\"-149.3\">samples = 1</text>\n<text font-family=\"Helvetica,sans-Serif\" font-size=\"14.00\" text-anchor=\"start\" x=\"42\" y=\"-134.3\">value = [0, 1, 0]</text>\n<text font-family=\"Helvetica,sans-Serif\" font-size=\"14.00\" text-anchor=\"start\" x=\"61.5\" y=\"-119.3\">class = 1</text>\n</g>\n<!-- 3&#45;&gt;4 -->\n<g class=\"edge\" id=\"edge4\"><title>3-&gt;4</title>\n<path d=\"M178.662,-222.907C165.039,-211.101 150.173,-198.217 136.596,-186.45\" fill=\"none\" stroke=\"black\"/>\n<polygon fill=\"black\" points=\"138.619,-183.571 128.77,-179.667 134.034,-188.861 138.619,-183.571\" stroke=\"black\"/>\n</g>\n<!-- 5 -->\n<g class=\"node\" id=\"node6\"><title>5</title>\n<path d=\"M274,-179.5C274,-179.5 177,-179.5 177,-179.5 171,-179.5 165,-173.5 165,-167.5 165,-167.5 165,-123.5 165,-123.5 165,-117.5 171,-111.5 177,-111.5 177,-111.5 274,-111.5 274,-111.5 280,-111.5 286,-117.5 286,-123.5 286,-123.5 286,-167.5 286,-167.5 286,-173.5 280,-179.5 274,-179.5\" fill=\"#8139e5\" stroke=\"black\"/>\n<text font-family=\"Helvetica,sans-Serif\" font-size=\"14.00\" text-anchor=\"start\" x=\"183.5\" y=\"-164.3\">entropy = 0.0</text>\n<text font-family=\"Helvetica,sans-Serif\" font-size=\"14.00\" text-anchor=\"start\" x=\"182\" y=\"-149.3\">samples = 36</text>\n<text font-family=\"Helvetica,sans-Serif\" font-size=\"14.00\" text-anchor=\"start\" x=\"173\" y=\"-134.3\">value = [0, 0, 36]</text>\n<text font-family=\"Helvetica,sans-Serif\" font-size=\"14.00\" text-anchor=\"start\" x=\"196.5\" y=\"-119.3\">class = 2</text>\n</g>\n<!-- 3&#45;&gt;5 -->\n<g class=\"edge\" id=\"edge5\"><title>3-&gt;5</title>\n<path d=\"M225.5,-222.907C225.5,-212.204 225.5,-200.615 225.5,-189.776\" fill=\"none\" stroke=\"black\"/>\n<polygon fill=\"black\" points=\"229,-189.667 225.5,-179.667 222,-189.667 229,-189.667\" stroke=\"black\"/>\n</g>\n<!-- 7 -->\n<g class=\"node\" id=\"node8\"><title>7</title>\n<path d=\"M491.5,-306C491.5,-306 393.5,-306 393.5,-306 387.5,-306 381.5,-300 381.5,-294 381.5,-294 381.5,-235 381.5,-235 381.5,-229 387.5,-223 393.5,-223 393.5,-223 491.5,-223 491.5,-223 497.5,-223 503.5,-229 503.5,-235 503.5,-235 503.5,-294 503.5,-294 503.5,-300 497.5,-306 491.5,-306\" fill=\"#39e581\" fill-opacity=\"0.972549\" stroke=\"black\"/>\n<text font-family=\"Helvetica,sans-Serif\" font-size=\"14.00\" text-anchor=\"start\" x=\"389.5\" y=\"-290.8\">alcohol ≤ 13.175</text>\n<text font-family=\"Helvetica,sans-Serif\" font-size=\"14.00\" text-anchor=\"start\" x=\"392.5\" y=\"-275.8\">entropy = 0.169</text>\n<text font-family=\"Helvetica,sans-Serif\" font-size=\"14.00\" text-anchor=\"start\" x=\"399\" y=\"-260.8\">samples = 40</text>\n<text font-family=\"Helvetica,sans-Serif\" font-size=\"14.00\" text-anchor=\"start\" x=\"390\" y=\"-245.8\">value = [1, 39, 0]</text>\n<text font-family=\"Helvetica,sans-Serif\" font-size=\"14.00\" text-anchor=\"start\" x=\"413.5\" y=\"-230.8\">class = 1</text>\n</g>\n<!-- 6&#45;&gt;7 -->\n<g class=\"edge\" id=\"edge7\"><title>6-&gt;7</title>\n<path d=\"M442.5,-341.907C442.5,-333.649 442.5,-324.864 442.5,-316.302\" fill=\"none\" stroke=\"black\"/>\n<polygon fill=\"black\" points=\"446,-316.021 442.5,-306.021 439,-316.021 446,-316.021\" stroke=\"black\"/>\n</g>\n<!-- 12 -->\n<g class=\"node\" id=\"node13\"><title>12</title>\n<path d=\"M683,-306C683,-306 586,-306 586,-306 580,-306 574,-300 574,-294 574,-294 574,-235 574,-235 574,-229 580,-223 586,-223 586,-223 683,-223 683,-223 689,-223 695,-229 695,-235 695,-235 695,-294 695,-294 695,-300 689,-306 683,-306\" fill=\"#e58139\" fill-opacity=\"0.941176\" stroke=\"black\"/>\n<text font-family=\"Helvetica,sans-Serif\" font-size=\"14.00\" text-anchor=\"start\" x=\"586\" y=\"-290.8\">alcohol ≤ 12.66</text>\n<text font-family=\"Helvetica,sans-Serif\" font-size=\"14.00\" text-anchor=\"start\" x=\"584.5\" y=\"-275.8\">entropy = 0.303</text>\n<text font-family=\"Helvetica,sans-Serif\" font-size=\"14.00\" text-anchor=\"start\" x=\"591\" y=\"-260.8\">samples = 37</text>\n<text font-family=\"Helvetica,sans-Serif\" font-size=\"14.00\" text-anchor=\"start\" x=\"582\" y=\"-245.8\">value = [35, 2, 0]</text>\n<text font-family=\"Helvetica,sans-Serif\" font-size=\"14.00\" text-anchor=\"start\" x=\"605.5\" y=\"-230.8\">class = 0</text>\n</g>\n<!-- 6&#45;&gt;12 -->\n<g class=\"edge\" id=\"edge12\"><title>6-&gt;12</title>\n<path d=\"M507.235,-343.052C525.927,-331.661 546.396,-319.189 565.346,-307.641\" fill=\"none\" stroke=\"black\"/>\n<polygon fill=\"black\" points=\"567.216,-310.6 573.934,-302.407 563.574,-304.622 567.216,-310.6\" stroke=\"black\"/>\n</g>\n<!-- 8 -->\n<g class=\"node\" id=\"node9\"><title>8</title>\n<path d=\"M413,-179.5C413,-179.5 316,-179.5 316,-179.5 310,-179.5 304,-173.5 304,-167.5 304,-167.5 304,-123.5 304,-123.5 304,-117.5 310,-111.5 316,-111.5 316,-111.5 413,-111.5 413,-111.5 419,-111.5 425,-117.5 425,-123.5 425,-123.5 425,-167.5 425,-167.5 425,-173.5 419,-179.5 413,-179.5\" fill=\"#39e581\" stroke=\"black\"/>\n<text font-family=\"Helvetica,sans-Serif\" font-size=\"14.00\" text-anchor=\"start\" x=\"322.5\" y=\"-164.3\">entropy = 0.0</text>\n<text font-family=\"Helvetica,sans-Serif\" font-size=\"14.00\" text-anchor=\"start\" x=\"321\" y=\"-149.3\">samples = 36</text>\n<text font-family=\"Helvetica,sans-Serif\" font-size=\"14.00\" text-anchor=\"start\" x=\"312\" y=\"-134.3\">value = [0, 36, 0]</text>\n<text font-family=\"Helvetica,sans-Serif\" font-size=\"14.00\" text-anchor=\"start\" x=\"335.5\" y=\"-119.3\">class = 1</text>\n</g>\n<!-- 7&#45;&gt;8 -->\n<g class=\"edge\" id=\"edge8\"><title>7-&gt;8</title>\n<path d=\"M415.438,-222.907C407.935,-211.652 399.779,-199.418 392.237,-188.106\" fill=\"none\" stroke=\"black\"/>\n<polygon fill=\"black\" points=\"395.071,-186.046 386.611,-179.667 389.246,-189.929 395.071,-186.046\" stroke=\"black\"/>\n</g>\n<!-- 9 -->\n<g class=\"node\" id=\"node10\"><title>9</title>\n<path d=\"M547.5,-187C547.5,-187 455.5,-187 455.5,-187 449.5,-187 443.5,-181 443.5,-175 443.5,-175 443.5,-116 443.5,-116 443.5,-110 449.5,-104 455.5,-104 455.5,-104 547.5,-104 547.5,-104 553.5,-104 559.5,-110 559.5,-116 559.5,-116 559.5,-175 559.5,-175 559.5,-181 553.5,-187 547.5,-187\" fill=\"#39e581\" fill-opacity=\"0.666667\" stroke=\"black\"/>\n<text font-family=\"Helvetica,sans-Serif\" font-size=\"14.00\" text-anchor=\"start\" x=\"472\" y=\"-171.8\">hue ≤ 0.9</text>\n<text font-family=\"Helvetica,sans-Serif\" font-size=\"14.00\" text-anchor=\"start\" x=\"451.5\" y=\"-156.8\">entropy = 0.811</text>\n<text font-family=\"Helvetica,sans-Serif\" font-size=\"14.00\" text-anchor=\"start\" x=\"462\" y=\"-141.8\">samples = 4</text>\n<text font-family=\"Helvetica,sans-Serif\" font-size=\"14.00\" text-anchor=\"start\" x=\"453\" y=\"-126.8\">value = [1, 3, 0]</text>\n<text font-family=\"Helvetica,sans-Serif\" font-size=\"14.00\" text-anchor=\"start\" x=\"472.5\" y=\"-111.8\">class = 1</text>\n</g>\n<!-- 7&#45;&gt;9 -->\n<g class=\"edge\" id=\"edge9\"><title>7-&gt;9</title>\n<path d=\"M462.97,-222.907C467.317,-214.286 471.954,-205.09 476.45,-196.175\" fill=\"none\" stroke=\"black\"/>\n<polygon fill=\"black\" points=\"479.689,-197.526 481.066,-187.021 473.439,-194.374 479.689,-197.526\" stroke=\"black\"/>\n</g>\n<!-- 10 -->\n<g class=\"node\" id=\"node11\"><title>10</title>\n<path d=\"M480,-68C480,-68 391,-68 391,-68 385,-68 379,-62 379,-56 379,-56 379,-12 379,-12 379,-6 385,-0 391,-0 391,-0 480,-0 480,-0 486,-0 492,-6 492,-12 492,-12 492,-56 492,-56 492,-62 486,-68 480,-68\" fill=\"#e58139\" stroke=\"black\"/>\n<text font-family=\"Helvetica,sans-Serif\" font-size=\"14.00\" text-anchor=\"start\" x=\"393.5\" y=\"-52.8\">entropy = 0.0</text>\n<text font-family=\"Helvetica,sans-Serif\" font-size=\"14.00\" text-anchor=\"start\" x=\"396\" y=\"-37.8\">samples = 1</text>\n<text font-family=\"Helvetica,sans-Serif\" font-size=\"14.00\" text-anchor=\"start\" x=\"387\" y=\"-22.8\">value = [1, 0, 0]</text>\n<text font-family=\"Helvetica,sans-Serif\" font-size=\"14.00\" text-anchor=\"start\" x=\"406.5\" y=\"-7.8\">class = 0</text>\n</g>\n<!-- 9&#45;&gt;10 -->\n<g class=\"edge\" id=\"edge10\"><title>9-&gt;10</title>\n<path d=\"M476.924,-103.726C471.646,-94.9703 466.061,-85.7032 460.758,-76.9051\" fill=\"none\" stroke=\"black\"/>\n<polygon fill=\"black\" points=\"463.731,-75.0574 455.571,-68.2996 457.736,-78.671 463.731,-75.0574\" stroke=\"black\"/>\n</g>\n<!-- 11 -->\n<g class=\"node\" id=\"node12\"><title>11</title>\n<path d=\"M611,-68C611,-68 522,-68 522,-68 516,-68 510,-62 510,-56 510,-56 510,-12 510,-12 510,-6 516,-0 522,-0 522,-0 611,-0 611,-0 617,-0 623,-6 623,-12 623,-12 623,-56 623,-56 623,-62 617,-68 611,-68\" fill=\"#39e581\" stroke=\"black\"/>\n<text font-family=\"Helvetica,sans-Serif\" font-size=\"14.00\" text-anchor=\"start\" x=\"524.5\" y=\"-52.8\">entropy = 0.0</text>\n<text font-family=\"Helvetica,sans-Serif\" font-size=\"14.00\" text-anchor=\"start\" x=\"527\" y=\"-37.8\">samples = 3</text>\n<text font-family=\"Helvetica,sans-Serif\" font-size=\"14.00\" text-anchor=\"start\" x=\"518\" y=\"-22.8\">value = [0, 3, 0]</text>\n<text font-family=\"Helvetica,sans-Serif\" font-size=\"14.00\" text-anchor=\"start\" x=\"537.5\" y=\"-7.8\">class = 1</text>\n</g>\n<!-- 9&#45;&gt;11 -->\n<g class=\"edge\" id=\"edge11\"><title>9-&gt;11</title>\n<path d=\"M525.704,-103.726C530.901,-94.9703 536.402,-85.7032 541.625,-76.9051\" fill=\"none\" stroke=\"black\"/>\n<polygon fill=\"black\" points=\"544.638,-78.6853 546.733,-68.2996 538.619,-75.1121 544.638,-78.6853\" stroke=\"black\"/>\n</g>\n<!-- 13 -->\n<g class=\"node\" id=\"node14\"><title>13</title>\n<path d=\"M679,-179.5C679,-179.5 590,-179.5 590,-179.5 584,-179.5 578,-173.5 578,-167.5 578,-167.5 578,-123.5 578,-123.5 578,-117.5 584,-111.5 590,-111.5 590,-111.5 679,-111.5 679,-111.5 685,-111.5 691,-117.5 691,-123.5 691,-123.5 691,-167.5 691,-167.5 691,-173.5 685,-179.5 679,-179.5\" fill=\"#39e581\" stroke=\"black\"/>\n<text font-family=\"Helvetica,sans-Serif\" font-size=\"14.00\" text-anchor=\"start\" x=\"592.5\" y=\"-164.3\">entropy = 0.0</text>\n<text font-family=\"Helvetica,sans-Serif\" font-size=\"14.00\" text-anchor=\"start\" x=\"595\" y=\"-149.3\">samples = 2</text>\n<text font-family=\"Helvetica,sans-Serif\" font-size=\"14.00\" text-anchor=\"start\" x=\"586\" y=\"-134.3\">value = [0, 2, 0]</text>\n<text font-family=\"Helvetica,sans-Serif\" font-size=\"14.00\" text-anchor=\"start\" x=\"605.5\" y=\"-119.3\">class = 1</text>\n</g>\n<!-- 12&#45;&gt;13 -->\n<g class=\"edge\" id=\"edge13\"><title>12-&gt;13</title>\n<path d=\"M634.5,-222.907C634.5,-212.204 634.5,-200.615 634.5,-189.776\" fill=\"none\" stroke=\"black\"/>\n<polygon fill=\"black\" points=\"638,-189.667 634.5,-179.667 631,-189.667 638,-189.667\" stroke=\"black\"/>\n</g>\n<!-- 14 -->\n<g class=\"node\" id=\"node15\"><title>14</title>\n<path d=\"M818,-179.5C818,-179.5 721,-179.5 721,-179.5 715,-179.5 709,-173.5 709,-167.5 709,-167.5 709,-123.5 709,-123.5 709,-117.5 715,-111.5 721,-111.5 721,-111.5 818,-111.5 818,-111.5 824,-111.5 830,-117.5 830,-123.5 830,-123.5 830,-167.5 830,-167.5 830,-173.5 824,-179.5 818,-179.5\" fill=\"#e58139\" stroke=\"black\"/>\n<text font-family=\"Helvetica,sans-Serif\" font-size=\"14.00\" text-anchor=\"start\" x=\"727.5\" y=\"-164.3\">entropy = 0.0</text>\n<text font-family=\"Helvetica,sans-Serif\" font-size=\"14.00\" text-anchor=\"start\" x=\"726\" y=\"-149.3\">samples = 35</text>\n<text font-family=\"Helvetica,sans-Serif\" font-size=\"14.00\" text-anchor=\"start\" x=\"717\" y=\"-134.3\">value = [35, 0, 0]</text>\n<text font-family=\"Helvetica,sans-Serif\" font-size=\"14.00\" text-anchor=\"start\" x=\"740.5\" y=\"-119.3\">class = 0</text>\n</g>\n<!-- 12&#45;&gt;14 -->\n<g class=\"edge\" id=\"edge14\"><title>12-&gt;14</title>\n<path d=\"M681.338,-222.907C694.961,-211.101 709.827,-198.217 723.404,-186.45\" fill=\"none\" stroke=\"black\"/>\n<polygon fill=\"black\" points=\"725.966,-188.861 731.23,-179.667 721.381,-183.571 725.966,-188.861\" stroke=\"black\"/>\n</g>\n</g>\n</svg>",
            "text/plain": [
              "<IPython.core.display.SVG object>"
            ]
          },
          "metadata": {
            "tags": []
          }
        }
      ]
    },
    {
      "cell_type": "code",
      "metadata": {
        "colab_type": "code",
        "id": "z6s46IYKmArW",
        "colab": {}
      },
      "source": [
        "from sklearn.preprocessing import label_binarize\n",
        "y = label_binarize(y, classes=[0, 1, 2])\n",
        "from sklearn.multiclass import OneVsRestClassifier\n",
        "X_train, X_test, y_train, y_test = train_test_split(X, y, test_size=.3,random_state=1)\n",
        "clf = OneVsRestClassifier(DecisionTreeClassifier(criterion=\"entropy\", max_depth=None))\n",
        "y_score = clf.fit(X_train, y_train).predict_proba(X_test)"
      ],
      "execution_count": 0,
      "outputs": []
    },
    {
      "cell_type": "code",
      "metadata": {
        "colab_type": "code",
        "id": "Fw5DwvEUnSkB",
        "outputId": "64a10f65-0d40-48a9-e229-b1e7f2e54a7e",
        "colab": {
          "base_uri": "https://localhost:8080/",
          "height": 1094
        }
      },
      "source": [
        "import matplotlib.pyplot as plt\n",
        "from sklearn.metrics import roc_curve, auc\n",
        "n_classes = 3\n",
        "fpr = dict()\n",
        "tpr = dict()\n",
        "roc_auc = dict()\n",
        "for i in range(n_classes):\n",
        "    fpr[i], tpr[i], _ = roc_curve(y_test[:, i], y_score[:, i])\n",
        "    roc_auc[i] = auc(fpr[i], tpr[i])\n",
        "\n",
        "# Plot of a ROC curve for a specific class\n",
        "for i in range(n_classes):\n",
        "    plt.figure()\n",
        "    plt.plot(fpr[i], tpr[i], label='ROC curve (area = %0.2f)' % roc_auc[i])\n",
        "    plt.plot([0, 1], [0, 1], 'k--')\n",
        "    plt.xlim([0.0, 1.0])\n",
        "    plt.ylim([0.0, 1.05])\n",
        "    plt.xlabel('False Positive Rate')\n",
        "    plt.ylabel('True Positive Rate')\n",
        "    plt.title('Receiver operating characteristic example')\n",
        "    plt.legend(loc=\"lower right\")\n",
        "    plt.show()"
      ],
      "execution_count": 0,
      "outputs": [
        {
          "output_type": "display_data",
          "data": {
            "image/png": "[encoded data removed]",
            "text/plain": [
              "<Figure size 432x288 with 1 Axes>"
            ]
          },
          "metadata": {
            "tags": [],
            "needs_background": "light"
          }
        },
        {
          "output_type": "display_data",
          "data": {
            "image/png": "[encoded data removed]",
            "text/plain": [
              "<Figure size 432x288 with 1 Axes>"
            ]
          },
          "metadata": {
            "tags": [],
            "needs_background": "light"
          }
        },
        {
          "output_type": "display_data",
          "data": {
            "image/png": "[encoded data removed]",
            "text/plain": [
              "<Figure size 432x288 with 1 Axes>"
            ]
          },
          "metadata": {
            "tags": [],
            "needs_background": "light"
          }
        }
      ]
    }
  ]
}